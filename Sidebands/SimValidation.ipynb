{
 "cells": [
  {
   "cell_type": "markdown",
   "metadata": {},
   "source": [
    "## Produce Plots for the Pi0, NuMU, 2+ Shower, Near Sideband, Far Sideband ##"
   ]
  },
  {
   "cell_type": "code",
   "execution_count": 1,
   "metadata": {},
   "outputs": [],
   "source": [
    "%load_ext autoreload\n",
    "%autoreload 2"
   ]
  },
  {
   "cell_type": "code",
   "execution_count": 2,
   "metadata": {},
   "outputs": [],
   "source": [
    "import sys\n",
    "import numpy as np\n",
    "sys.path.append(\"../\")\n",
    "import data_loading as dl\n",
    "import os\n",
    "from microfit import run_plotter as rp\n",
    "from microfit import histogram as hist\n",
    "import matplotlib.pyplot as plt\n",
    "from microfit import variable_definitions as vdef\n",
    "from microfit import selections"
   ]
  },
  {
   "cell_type": "code",
   "execution_count": 3,
   "metadata": {},
   "outputs": [],
   "source": [
    "from SidebandDraw import draw_sideband"
   ]
  },
  {
   "cell_type": "markdown",
   "metadata": {},
   "source": [
    "#### Select the Runs to be plotted ####"
   ]
  },
  {
   "cell_type": "code",
   "execution_count": 4,
   "metadata": {},
   "outputs": [],
   "source": [
    "#RUN_COMBOS_vv = [[\"1\"],[\"2\"],[\"3\"],[\"4a\"],[\"4b\"],[\"4c\"],[\"4d\"],[\"5\"],[\"1\",\"2\",\"3\"],[\"1\",\"2\",\"3\",\"4a\",\"4b\",\"4c\",\"4d\",\"5\"]]\n",
    "RUN_COMBOS_vv = [[\"1\"]]\n",
    "#RUN_COMBOS_vv = [[\"1\"],[\"2\"],[\"3\"],[\"4a\"],[\"4b\"],[\"4c\"],[\"4d\"],[\"5\"]]"
   ]
  },
  {
   "cell_type": "markdown",
   "metadata": {},
   "source": [
    "### NuMu Sideband ###"
   ]
  },
  {
   "cell_type": "code",
   "execution_count": null,
   "metadata": {
    "scrolled": false
   },
   "outputs": [
    {
     "name": "stdout",
     "output_type": "stream",
     "text": [
      "Making plots for runs ['1']\n",
      "Using data_paths.yml to locate ntuple file\n",
      "get_rundict: run_number= 1\n",
      "Loading ntuple file /uboone/data/users/cthorpe/PELEE_2023_Samples/run1/numupresel/NuMuSideband_bnb_beam_on_peleeTuple_uboone_v08_00_00_70_run1_C1.root\n"
     ]
    },
    {
     "name": "stderr",
     "output_type": "stream",
     "text": [
      "/uboone/app/users/cthorpe/Mambaforge/envs/python3LEE/lib/python3.7/site-packages/awkward/array/jagged.py:1043: RuntimeWarning: overflow encountered in power\n",
      "  result = getattr(ufunc, method)(*inputs, **kwargs)\n",
      "/uboone/app/users/cthorpe/Mambaforge/envs/python3LEE/lib/python3.7/site-packages/pandas/core/generic.py:2505: PerformanceWarning: \n",
      "your performance may suffer as PyTables will pickle object types that it cannot\n",
      "map directly to c-types [inferred_type->mixed,key->block3_values] [items->Index(['pfp_generation_v', 'trk_mcs_muon_mom_v'], dtype='object')]\n",
      "\n",
      "  encoding=encoding,\n"
     ]
    },
    {
     "name": "stdout",
     "output_type": "stream",
     "text": [
      "get_rundict: run_number= 1\n",
      "Using data_paths.yml to locate ntuple file\n",
      "get_rundict: run_number= 1\n",
      "Loading ntuple file /uboone/data/users/cthorpe/PELEE_2023_Samples/run1/numupresel/bnb_beam_off_peleeTuple_uboone_v08_00_00_70_run1.root\n",
      "get_rundict: run_number= 1\n",
      "Using data_paths.yml to locate ntuple file\n",
      "get_rundict: run_number= 1\n",
      "Loading ntuple file /uboone/data/users/cthorpe/PELEE_2023_Samples/run1/numupresel/overlay_peleeTuple_uboone_v08_00_00_70_run1_nu.root\n"
     ]
    },
    {
     "name": "stderr",
     "output_type": "stream",
     "text": [
      "/uboone/app/users/cthorpe/Mambaforge/envs/python3LEE/lib/python3.7/site-packages/pandas/core/generic.py:2505: PerformanceWarning: \n",
      "your performance may suffer as PyTables will pickle object types that it cannot\n",
      "map directly to c-types [inferred_type->mixed,key->block3_values] [items->Index(['weightsFlux', 'weightsGenie', 'weightsReint', 'pfp_generation_v',\n",
      "       'trk_mcs_muon_mom_v'],\n",
      "      dtype='object')]\n",
      "\n",
      "  encoding=encoding,\n"
     ]
    },
    {
     "name": "stdout",
     "output_type": "stream",
     "text": [
      "get_rundict: run_number= 1\n",
      "Using data_paths.yml to locate ntuple file\n",
      "get_rundict: run_number= 1\n",
      "Loading ntuple file /uboone/data/users/cthorpe/PELEE_2023_Samples/run1/numupresel/overlay_peleeTuple_uboone_v08_00_00_70_run1_nue.root\n"
     ]
    }
   ],
   "source": [
    "variables = [vdef.numusel_variables]\n",
    "selections = [\"None\",\"NUMU\"]\n",
    "preselections = [\"NUMU\",\"NUMU\"]\n",
    "\n",
    "draw_sideband(RUN_COMBOS_vv,\n",
    "            selections,\n",
    "            preselections,\n",
    "            variables,\n",
    "            \"muon_sideband\",\n",
    "            loadpi0variables=False,\n",
    "            loadshowervariables=False,\n",
    "            loadrecoveryvars=False,\n",
    "            loadsystematics=True,\n",
    "            load_lee=False,\n",
    "            blinded=False,\n",
    "            enable_cache=True,\n",
    "            numupresel=True,\n",
    "            loadnumuvariables=True,\n",
    "            use_bdt=False,\n",
    "            load_numu_tki=False)"
   ]
  },
  {
   "cell_type": "markdown",
   "metadata": {},
   "source": [
    "### High Energy Sideband ###"
   ]
  },
  {
   "cell_type": "code",
   "execution_count": null,
   "metadata": {
    "scrolled": false
   },
   "outputs": [],
   "source": [
    "variables = [vdef.NP_far_sideband_variables,vdef.bdtscore_variables]\n",
    "selections = [\"None\",\"NPVL\",\"NPL\",\"NP_HIGH_ENERGY\",\"NPVL_HIGH_ENERGY\",\"NPL_HIGH_ENERGY\",\"NPT_HIGH_ENERGY\",\"NPBDT_HIGH_ENERGY\"]\n",
    "preselections = [\"NP\",\"NP\",\"NP\",\"NP\",\"NP\",\"NP\",\"NP\",\"NP\"]\n",
    "title = \"Leading Shower Energy > 0.75 GeV\"\n",
    "\n",
    "draw_sideband(RUN_COMBOS_vv,\n",
    "            selections,\n",
    "            preselections,\n",
    "            variables,\n",
    "            \"shr_energy_sideband\",\n",
    "            sideband_title=title,\n",
    "            loadpi0variables=True,\n",
    "            loadshowervariables=True,\n",
    "            loadrecoveryvars=True,\n",
    "            loadsystematics=True,\n",
    "            load_lee=True,\n",
    "            blinded=False,\n",
    "            enable_cache=True,\n",
    "            numupresel=False,\n",
    "            loadnumuvariables=False,\n",
    "            use_bdt=True,\n",
    "            load_numu_tki=False)"
   ]
  },
  {
   "cell_type": "code",
   "execution_count": null,
   "metadata": {},
   "outputs": [],
   "source": [
    "variables = [vdef.ZP_far_sideband_variables,vdef.bdtscore_variables]\n",
    "selections = [\"None\",\"ZPLOOSESEL\",\"ZPBDT\"]\n",
    "preselections = [\"ZP\",\"ZP\",\"ZP\"]\n",
    "title = \"Leading Shower Energy > 0.75 GeV\"\n",
    "\n",
    "draw_sideband(RUN_COMBOS_vv,\n",
    "            selections,\n",
    "            preselections,\n",
    "            variables,\n",
    "            \"shr_energy_sideband\",\n",
    "            sideband_title=title,\n",
    "            loadpi0variables=True,\n",
    "            loadshowervariables=True,\n",
    "            loadrecoveryvars=True,\n",
    "            loadsystematics=True,\n",
    "            load_lee=True,\n",
    "            blinded=False,\n",
    "            enable_cache=True,\n",
    "            numupresel=False,\n",
    "            loadnumuvariables=False,\n",
    "            use_bdt=True,\n",
    "            load_numu_tki=False)"
   ]
  },
  {
   "cell_type": "markdown",
   "metadata": {},
   "source": [
    "### Pi0 Sideband ###"
   ]
  },
  {
   "cell_type": "code",
   "execution_count": null,
   "metadata": {
    "scrolled": false
   },
   "outputs": [],
   "source": [
    "variables = [vdef.pi0_variables,vdef.NP_far_sideband_variables,vdef.ZP_far_sideband_variables,vdef.bdtscore_variables]\n",
    "selections = [\"PI0\",\"None\",\"None\",\"ZPLOOSETWOSHR\",\"ZPBDTTWOSHR\",\"NPVLTWOSHR\",\"NPLTWOSHR\",\"NPBDTTWOSHR\",\"NPTTWOSHR\"]\n",
    "preselections = [\"PI0\",\"ZP\",\"NP\",\"ZP\",\"ZP\",\"NP\",\"NP\",\"NP\",\"NP\"]\n",
    "title = \"Two Shower Sideband\"\n",
    "\n",
    "draw_sideband(RUN_COMBOS_vv,\n",
    "            selections,\n",
    "            preselections,\n",
    "            variables,\n",
    "            \"two_shr_sideband\",\n",
    "            sideband_title=title,\n",
    "            loadpi0variables=True,\n",
    "            loadshowervariables=True,\n",
    "            loadrecoveryvars=True,\n",
    "            loadsystematics=True,\n",
    "            load_lee=True,\n",
    "            blinded=False,\n",
    "            enable_cache=True,\n",
    "            numupresel=False,\n",
    "            loadnumuvariables=False,\n",
    "            use_bdt=True,\n",
    "            load_numu_tki=False)"
   ]
  },
  {
   "cell_type": "markdown",
   "metadata": {},
   "source": [
    "### Near/Far Sidebands ###"
   ]
  },
  {
   "cell_type": "code",
   "execution_count": null,
   "metadata": {
    "scrolled": false
   },
   "outputs": [],
   "source": [
    "variables = [vdef.NP_far_sideband_variables]\n",
    "selections = [\"NP_HIGH_ENERGY\",\"NPVL_HIGH_ENERGY\",\"NPL_HIGH_ENERGY\",\"NPBDT_HIGH_ENERGY\",\"NP_LOW_PID\",\"NPVL_LOW_PID\",\"NPL_LOW_PID\",\"NPT_LOW_PID\"]\n",
    "preselections = [\"NP\",\"NP\",\"NP\",\"NP\",\"NP\",\"NP\",\"NP\",\"NP\"]\n",
    "\n",
    "draw_sideband(RUN_COMBOS_vv,\n",
    "            selections,\n",
    "            preselections,\n",
    "            variables,\n",
    "            \"bdt_sideband\",\n",
    "            loadpi0variables=True,\n",
    "            loadshowervariables=True,\n",
    "            loadrecoveryvars=True,\n",
    "            loadsystematics=True,\n",
    "            load_lee=True,\n",
    "            blinded=False,\n",
    "            enable_cache=True,\n",
    "            numupresel=False,\n",
    "            loadnumuvariables=False,\n",
    "            use_bdt=True,\n",
    "            load_numu_tki=False)"
   ]
  },
  {
   "cell_type": "code",
   "execution_count": null,
   "metadata": {},
   "outputs": [],
   "source": [
    "variables = [vdef.ZP_far_sideband_variables]\n",
    "selections = [\"ZP_HIGH_ENERGY\",\"ZPLOOSESEL_HIGH_ENERGY\",\"ZPBDT_HIGH_ENERGY\",\"ZP_LOW_PID\",\"ZPLOOSESEL_LOW_PID\"]\n",
    "preselections = [\"ZP\",\"ZP\",\"ZP\",\"ZP\",\"ZP\"]\n",
    "\n",
    "draw_sideband(RUN_COMBOS_vv,\n",
    "            selections,\n",
    "            preselections,\n",
    "            variables,\n",
    "            \"bdt_sideband\",\n",
    "            loadpi0variables=True,\n",
    "            loadshowervariables=True,\n",
    "            loadrecoveryvars=True,\n",
    "            loadsystematics=True,\n",
    "            load_lee=True,\n",
    "            blinded=False,\n",
    "            enable_cache=True,\n",
    "            numupresel=False,\n",
    "            loadnumuvariables=False,\n",
    "            use_bdt=True,\n",
    "            load_numu_tki=False)"
   ]
  },
  {
   "cell_type": "code",
   "execution_count": null,
   "metadata": {},
   "outputs": [],
   "source": [
    "variables = [vdef.NP_near_sideband_variables]\n",
    "selections = [\"NP_MEDIUM_ENERGY\",\"NPVL_MEDIUM_ENERGY\",\"NPL_MEDIUM_ENERGY\",\"NPBDT_MEDIUM_ENERGY\",\"NP_MEDIUM_PID\",\"NPVL_MEDIUM_PID\",\"NPL_MEDIUM_PID\",\"NPT_MEDIUM_PID\"]\n",
    "preselections = [\"NP\",\"NP\",\"NP\",\"NP\",\"NP\",\"NP\",\"NP\",\"NP\"]\n",
    "\n",
    "draw_sideband(RUN_COMBOS_vv,\n",
    "            selections,\n",
    "            preselections,\n",
    "            variables,\n",
    "            \"bdt_sideband\",\n",
    "            loadpi0variables=True,\n",
    "            loadshowervariables=True,\n",
    "            loadrecoveryvars=True,\n",
    "            loadsystematics=True,\n",
    "            load_lee=True,\n",
    "            blinded=False,\n",
    "            enable_cache=True,\n",
    "            numupresel=False,\n",
    "            loadnumuvariables=False,\n",
    "            use_bdt=True,\n",
    "            load_numu_tki=False)"
   ]
  },
  {
   "cell_type": "code",
   "execution_count": null,
   "metadata": {},
   "outputs": [],
   "source": [
    "variables = [vdef.ZP_near_sideband_variables]\n",
    "selections = [\"ZP_MEDIUM_ENERGY\",\"ZPLOOSESEL_MEDIUM_ENERGY\",\"ZPBDT_MEDIUM_ENERGY\",\"ZP_MEDIUM_PID\",\"ZPLOOSESEL_MEDIUM_PID\"]\n",
    "preselections = [\"ZP\",\"ZP\",\"ZP\",\"ZP\",\"ZP\"]\n",
    "\n",
    "draw_sideband(RUN_COMBOS_vv,\n",
    "            selections,\n",
    "            preselections,\n",
    "            variables,\n",
    "            \"bdt_sideband\",\n",
    "            loadpi0variables=True,\n",
    "            loadshowervariables=True,\n",
    "            loadrecoveryvars=True,\n",
    "            loadsystematics=True,\n",
    "            load_lee=True,\n",
    "            blinded=False,\n",
    "            enable_cache=True,\n",
    "            numupresel=False,\n",
    "            loadnumuvariables=False,\n",
    "            use_bdt=True,\n",
    "            load_numu_tki=False)"
   ]
  },
  {
   "cell_type": "code",
   "execution_count": null,
   "metadata": {},
   "outputs": [],
   "source": []
  }
 ],
 "metadata": {
  "kernelspec": {
   "display_name": "Python 3 (ipykernel)",
   "language": "python",
   "name": "python3"
  },
  "language_info": {
   "codemirror_mode": {
    "name": "ipython",
    "version": 3
   },
   "file_extension": ".py",
   "mimetype": "text/x-python",
   "name": "python",
   "nbconvert_exporter": "python",
   "pygments_lexer": "ipython3",
   "version": "3.7.12"
  }
 },
 "nbformat": 4,
 "nbformat_minor": 2
}
