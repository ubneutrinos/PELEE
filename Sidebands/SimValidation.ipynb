{
 "cells": [
  {
   "cell_type": "markdown",
   "metadata": {},
   "source": [
    "## Produce Plots for the Pi0, NuMU, 2+ Shower, Near Sideband, Far Sideband ##"
   ]
  },
  {
   "cell_type": "code",
   "execution_count": 8,
   "metadata": {},
   "outputs": [
    {
     "name": "stdout",
     "output_type": "stream",
     "text": [
      "The autoreload extension is already loaded. To reload it, use:\n",
      "  %reload_ext autoreload\n"
     ]
    }
   ],
   "source": [
    "%load_ext autoreload\n",
    "%autoreload 2"
   ]
  },
  {
   "cell_type": "code",
   "execution_count": 9,
   "metadata": {},
   "outputs": [],
   "source": [
    "import sys\n",
    "import numpy as np\n",
    "sys.path.append(\"../\")\n",
    "import data_loading as dl\n",
    "import os\n",
    "from microfit import run_plotter as rp\n",
    "from microfit import histogram as hist\n",
    "import matplotlib.pyplot as plt\n",
    "from microfit import variable_definitions as vdef\n",
    "from microfit import selections"
   ]
  },
  {
   "cell_type": "code",
   "execution_count": 10,
   "metadata": {},
   "outputs": [],
   "source": [
    "from SidebandDraw import draw_sideband"
   ]
  },
  {
   "cell_type": "markdown",
   "metadata": {},
   "source": [
    "#### Select the Runs to be plotted ####"
   ]
  },
  {
   "cell_type": "code",
   "execution_count": 11,
   "metadata": {},
   "outputs": [],
   "source": [
    "#RUN_COMBOS_vv = [[\"1\"],[\"2\"],[\"3\"],[\"4b\"],[\"4c\"],[\"4d\"],[\"1\",\"2\",\"3\"],[\"1\",\"2\",\"3\",\"4b\",\"4c\",\"4d\"]]\n",
    "RUN_COMBOS_vv = [[\"1\"]]"
   ]
  },
  {
   "cell_type": "markdown",
   "metadata": {},
   "source": [
    "### NuMu Sideband ###"
   ]
  },
  {
   "cell_type": "code",
   "execution_count": 12,
   "metadata": {
    "scrolled": false
   },
   "outputs": [
    {
     "name": "stdout",
     "output_type": "stream",
     "text": [
      "Making plots for runs ['1']\n"
     ]
    }
   ],
   "source": [
    "variables = [vdef.numusel_variables]\n",
    "\n",
    "draw_sideband(RUN_COMBOS_vv,\n",
    "            [\"NUMU\"],\n",
    "            [\"NUMU\"],\n",
    "            variables,\n",
    "            \"muon_sideband\",\n",
    "            loadpi0variables=False,\n",
    "            loadshowervariables=False,\n",
    "            loadrecoveryvars=False,\n",
    "            loadsystematics=True,\n",
    "            load_lee=False,\n",
    "            blinded=False,\n",
    "            enable_cache=True,\n",
    "            numupresel=True,\n",
    "            loadnumuvariables=True,\n",
    "            use_bdt=False,\n",
    "            load_numu_tki=False)"
   ]
  },
  {
   "cell_type": "markdown",
   "metadata": {},
   "source": [
    "### High Energy Sideband ###"
   ]
  },
  {
   "cell_type": "code",
   "execution_count": 7,
   "metadata": {
    "scrolled": true
   },
   "outputs": [
    {
     "name": "stdout",
     "output_type": "stream",
     "text": [
      "Making plots for runs ['1']\n",
      "Loading lee sample\n"
     ]
    },
    {
     "name": "stderr",
     "output_type": "stream",
     "text": [
      "/uboone/app/users/cthorpe/Mambaforge/envs/python3LEE/lib/python3.7/site-packages/matplotlib/axes/_base.py:2480: UserWarning: Warning: converting a masked element to nan.\n",
      "  xys = np.asarray(xys)\n",
      "/uboone/app/users/cthorpe/Mambaforge/envs/python3LEE/lib/python3.7/site-packages/matplotlib/axes/_base.py:2480: UserWarning: Warning: converting a masked element to nan.\n",
      "  xys = np.asarray(xys)\n",
      "/uboone/app/users/cthorpe/Mambaforge/envs/python3LEE/lib/python3.7/site-packages/matplotlib/axes/_base.py:2480: UserWarning: Warning: converting a masked element to nan.\n",
      "  xys = np.asarray(xys)\n",
      "/uboone/app/users/cthorpe/Mambaforge/envs/python3LEE/lib/python3.7/site-packages/matplotlib/axes/_base.py:2480: UserWarning: Warning: converting a masked element to nan.\n",
      "  xys = np.asarray(xys)\n",
      "/uboone/app/users/cthorpe/Mambaforge/envs/python3LEE/lib/python3.7/site-packages/matplotlib/axes/_base.py:2480: UserWarning: Warning: converting a masked element to nan.\n",
      "  xys = np.asarray(xys)\n",
      "/uboone/app/users/cthorpe/Mambaforge/envs/python3LEE/lib/python3.7/site-packages/matplotlib/axes/_base.py:2480: UserWarning: Warning: converting a masked element to nan.\n",
      "  xys = np.asarray(xys)\n",
      "/uboone/app/users/cthorpe/Mambaforge/envs/python3LEE/lib/python3.7/site-packages/matplotlib/axes/_base.py:2480: UserWarning: Warning: converting a masked element to nan.\n",
      "  xys = np.asarray(xys)\n",
      "/uboone/app/users/cthorpe/Mambaforge/envs/python3LEE/lib/python3.7/site-packages/matplotlib/axes/_base.py:2480: UserWarning: Warning: converting a masked element to nan.\n",
      "  xys = np.asarray(xys)\n",
      "/uboone/app/users/cthorpe/Mambaforge/envs/python3LEE/lib/python3.7/site-packages/matplotlib/axes/_base.py:2480: UserWarning: Warning: converting a masked element to nan.\n",
      "  xys = np.asarray(xys)\n",
      "/uboone/app/users/cthorpe/Mambaforge/envs/python3LEE/lib/python3.7/site-packages/matplotlib/axes/_base.py:2480: UserWarning: Warning: converting a masked element to nan.\n",
      "  xys = np.asarray(xys)\n",
      "/uboone/app/users/cthorpe/Mambaforge/envs/python3LEE/lib/python3.7/site-packages/matplotlib/axes/_base.py:2480: UserWarning: Warning: converting a masked element to nan.\n",
      "  xys = np.asarray(xys)\n",
      "/uboone/app/users/cthorpe/Mambaforge/envs/python3LEE/lib/python3.7/site-packages/matplotlib/axes/_base.py:2480: UserWarning: Warning: converting a masked element to nan.\n",
      "  xys = np.asarray(xys)\n",
      "/uboone/app/users/cthorpe/Mambaforge/envs/python3LEE/lib/python3.7/site-packages/matplotlib/axes/_base.py:2480: UserWarning: Warning: converting a masked element to nan.\n",
      "  xys = np.asarray(xys)\n",
      "/uboone/app/users/cthorpe/Mambaforge/envs/python3LEE/lib/python3.7/site-packages/matplotlib/axes/_base.py:2480: UserWarning: Warning: converting a masked element to nan.\n",
      "  xys = np.asarray(xys)\n",
      "/uboone/app/users/cthorpe/Mambaforge/envs/python3LEE/lib/python3.7/site-packages/matplotlib/axes/_base.py:2480: UserWarning: Warning: converting a masked element to nan.\n",
      "  xys = np.asarray(xys)\n"
     ]
    },
    {
     "name": "stdout",
     "output_type": "stream",
     "text": [
      "Making plots for runs ['2']\n",
      "Loading lee sample\n"
     ]
    },
    {
     "name": "stderr",
     "output_type": "stream",
     "text": [
      "/uboone/app/users/cthorpe/Mambaforge/envs/python3LEE/lib/python3.7/site-packages/matplotlib/axes/_base.py:2480: UserWarning: Warning: converting a masked element to nan.\n",
      "  xys = np.asarray(xys)\n",
      "/uboone/app/users/cthorpe/Mambaforge/envs/python3LEE/lib/python3.7/site-packages/matplotlib/axes/_base.py:2480: UserWarning: Warning: converting a masked element to nan.\n",
      "  xys = np.asarray(xys)\n",
      "/uboone/app/users/cthorpe/Mambaforge/envs/python3LEE/lib/python3.7/site-packages/matplotlib/axes/_base.py:2480: UserWarning: Warning: converting a masked element to nan.\n",
      "  xys = np.asarray(xys)\n",
      "/uboone/app/users/cthorpe/Mambaforge/envs/python3LEE/lib/python3.7/site-packages/matplotlib/axes/_base.py:2480: UserWarning: Warning: converting a masked element to nan.\n",
      "  xys = np.asarray(xys)\n",
      "/uboone/app/users/cthorpe/Mambaforge/envs/python3LEE/lib/python3.7/site-packages/matplotlib/axes/_base.py:2480: UserWarning: Warning: converting a masked element to nan.\n",
      "  xys = np.asarray(xys)\n",
      "/uboone/app/users/cthorpe/Mambaforge/envs/python3LEE/lib/python3.7/site-packages/matplotlib/axes/_base.py:2480: UserWarning: Warning: converting a masked element to nan.\n",
      "  xys = np.asarray(xys)\n",
      "/uboone/app/users/cthorpe/Mambaforge/envs/python3LEE/lib/python3.7/site-packages/matplotlib/axes/_base.py:2480: UserWarning: Warning: converting a masked element to nan.\n",
      "  xys = np.asarray(xys)\n",
      "/uboone/app/users/cthorpe/Mambaforge/envs/python3LEE/lib/python3.7/site-packages/matplotlib/axes/_base.py:2480: UserWarning: Warning: converting a masked element to nan.\n",
      "  xys = np.asarray(xys)\n",
      "/uboone/app/users/cthorpe/Mambaforge/envs/python3LEE/lib/python3.7/site-packages/matplotlib/axes/_base.py:2480: UserWarning: Warning: converting a masked element to nan.\n",
      "  xys = np.asarray(xys)\n",
      "/uboone/app/users/cthorpe/Mambaforge/envs/python3LEE/lib/python3.7/site-packages/matplotlib/axes/_base.py:2480: UserWarning: Warning: converting a masked element to nan.\n",
      "  xys = np.asarray(xys)\n",
      "/uboone/app/users/cthorpe/Mambaforge/envs/python3LEE/lib/python3.7/site-packages/matplotlib/axes/_base.py:2480: UserWarning: Warning: converting a masked element to nan.\n",
      "  xys = np.asarray(xys)\n",
      "/uboone/app/users/cthorpe/Mambaforge/envs/python3LEE/lib/python3.7/site-packages/matplotlib/axes/_base.py:2480: UserWarning: Warning: converting a masked element to nan.\n",
      "  xys = np.asarray(xys)\n",
      "/uboone/app/users/cthorpe/Mambaforge/envs/python3LEE/lib/python3.7/site-packages/matplotlib/axes/_base.py:2480: UserWarning: Warning: converting a masked element to nan.\n",
      "  xys = np.asarray(xys)\n",
      "/uboone/app/users/cthorpe/Mambaforge/envs/python3LEE/lib/python3.7/site-packages/matplotlib/axes/_base.py:2480: UserWarning: Warning: converting a masked element to nan.\n",
      "  xys = np.asarray(xys)\n",
      "/uboone/app/users/cthorpe/Mambaforge/envs/python3LEE/lib/python3.7/site-packages/matplotlib/axes/_base.py:2480: UserWarning: Warning: converting a masked element to nan.\n",
      "  xys = np.asarray(xys)\n",
      "/uboone/app/users/cthorpe/Mambaforge/envs/python3LEE/lib/python3.7/site-packages/matplotlib/axes/_base.py:2480: UserWarning: Warning: converting a masked element to nan.\n",
      "  xys = np.asarray(xys)\n",
      "/uboone/app/users/cthorpe/Mambaforge/envs/python3LEE/lib/python3.7/site-packages/matplotlib/axes/_base.py:2480: UserWarning: Warning: converting a masked element to nan.\n",
      "  xys = np.asarray(xys)\n"
     ]
    },
    {
     "name": "stdout",
     "output_type": "stream",
     "text": [
      "Making plots for runs ['3']\n",
      "Loading lee sample\n"
     ]
    },
    {
     "name": "stderr",
     "output_type": "stream",
     "text": [
      "/uboone/app/users/cthorpe/Mambaforge/envs/python3LEE/lib/python3.7/site-packages/matplotlib/axes/_base.py:2480: UserWarning: Warning: converting a masked element to nan.\n",
      "  xys = np.asarray(xys)\n",
      "/uboone/app/users/cthorpe/Mambaforge/envs/python3LEE/lib/python3.7/site-packages/matplotlib/axes/_base.py:2480: UserWarning: Warning: converting a masked element to nan.\n",
      "  xys = np.asarray(xys)\n",
      "/uboone/app/users/cthorpe/Mambaforge/envs/python3LEE/lib/python3.7/site-packages/matplotlib/axes/_base.py:2480: UserWarning: Warning: converting a masked element to nan.\n",
      "  xys = np.asarray(xys)\n",
      "/uboone/app/users/cthorpe/Mambaforge/envs/python3LEE/lib/python3.7/site-packages/matplotlib/axes/_base.py:2480: UserWarning: Warning: converting a masked element to nan.\n",
      "  xys = np.asarray(xys)\n",
      "/uboone/app/users/cthorpe/Mambaforge/envs/python3LEE/lib/python3.7/site-packages/matplotlib/axes/_base.py:2480: UserWarning: Warning: converting a masked element to nan.\n",
      "  xys = np.asarray(xys)\n",
      "/uboone/app/users/cthorpe/Mambaforge/envs/python3LEE/lib/python3.7/site-packages/matplotlib/axes/_base.py:2480: UserWarning: Warning: converting a masked element to nan.\n",
      "  xys = np.asarray(xys)\n",
      "/uboone/app/users/cthorpe/Mambaforge/envs/python3LEE/lib/python3.7/site-packages/matplotlib/axes/_base.py:2480: UserWarning: Warning: converting a masked element to nan.\n",
      "  xys = np.asarray(xys)\n",
      "/uboone/app/users/cthorpe/Mambaforge/envs/python3LEE/lib/python3.7/site-packages/matplotlib/axes/_base.py:2480: UserWarning: Warning: converting a masked element to nan.\n",
      "  xys = np.asarray(xys)\n",
      "/uboone/app/users/cthorpe/Mambaforge/envs/python3LEE/lib/python3.7/site-packages/matplotlib/axes/_base.py:2480: UserWarning: Warning: converting a masked element to nan.\n",
      "  xys = np.asarray(xys)\n",
      "/uboone/app/users/cthorpe/Mambaforge/envs/python3LEE/lib/python3.7/site-packages/matplotlib/axes/_base.py:2480: UserWarning: Warning: converting a masked element to nan.\n",
      "  xys = np.asarray(xys)\n",
      "/uboone/app/users/cthorpe/Mambaforge/envs/python3LEE/lib/python3.7/site-packages/matplotlib/axes/_base.py:2480: UserWarning: Warning: converting a masked element to nan.\n",
      "  xys = np.asarray(xys)\n",
      "/uboone/app/users/cthorpe/Mambaforge/envs/python3LEE/lib/python3.7/site-packages/matplotlib/axes/_base.py:2480: UserWarning: Warning: converting a masked element to nan.\n",
      "  xys = np.asarray(xys)\n",
      "/uboone/app/users/cthorpe/Mambaforge/envs/python3LEE/lib/python3.7/site-packages/matplotlib/axes/_base.py:2480: UserWarning: Warning: converting a masked element to nan.\n",
      "  xys = np.asarray(xys)\n",
      "/uboone/app/users/cthorpe/Mambaforge/envs/python3LEE/lib/python3.7/site-packages/matplotlib/axes/_base.py:2480: UserWarning: Warning: converting a masked element to nan.\n",
      "  xys = np.asarray(xys)\n",
      "/uboone/app/users/cthorpe/Mambaforge/envs/python3LEE/lib/python3.7/site-packages/matplotlib/axes/_base.py:2480: UserWarning: Warning: converting a masked element to nan.\n",
      "  xys = np.asarray(xys)\n",
      "/uboone/app/users/cthorpe/Mambaforge/envs/python3LEE/lib/python3.7/site-packages/matplotlib/axes/_base.py:2480: UserWarning: Warning: converting a masked element to nan.\n",
      "  xys = np.asarray(xys)\n"
     ]
    },
    {
     "name": "stdout",
     "output_type": "stream",
     "text": [
      "Making plots for runs ['4b']\n",
      "Loading lee sample\n"
     ]
    },
    {
     "name": "stderr",
     "output_type": "stream",
     "text": [
      "/uboone/app/users/cthorpe/Mambaforge/envs/python3LEE/lib/python3.7/site-packages/matplotlib/axes/_base.py:2480: UserWarning: Warning: converting a masked element to nan.\n",
      "  xys = np.asarray(xys)\n",
      "/uboone/app/users/cthorpe/Mambaforge/envs/python3LEE/lib/python3.7/site-packages/matplotlib/axes/_base.py:2480: UserWarning: Warning: converting a masked element to nan.\n",
      "  xys = np.asarray(xys)\n",
      "/uboone/app/users/cthorpe/Mambaforge/envs/python3LEE/lib/python3.7/site-packages/matplotlib/axes/_base.py:2480: UserWarning: Warning: converting a masked element to nan.\n",
      "  xys = np.asarray(xys)\n",
      "/uboone/app/users/cthorpe/Mambaforge/envs/python3LEE/lib/python3.7/site-packages/matplotlib/axes/_base.py:2480: UserWarning: Warning: converting a masked element to nan.\n",
      "  xys = np.asarray(xys)\n",
      "/uboone/app/users/cthorpe/Mambaforge/envs/python3LEE/lib/python3.7/site-packages/matplotlib/axes/_base.py:2480: UserWarning: Warning: converting a masked element to nan.\n",
      "  xys = np.asarray(xys)\n",
      "/uboone/app/users/cthorpe/Mambaforge/envs/python3LEE/lib/python3.7/site-packages/matplotlib/axes/_base.py:2480: UserWarning: Warning: converting a masked element to nan.\n",
      "  xys = np.asarray(xys)\n",
      "/uboone/app/users/cthorpe/Mambaforge/envs/python3LEE/lib/python3.7/site-packages/matplotlib/axes/_base.py:2480: UserWarning: Warning: converting a masked element to nan.\n",
      "  xys = np.asarray(xys)\n",
      "/uboone/app/users/cthorpe/Mambaforge/envs/python3LEE/lib/python3.7/site-packages/matplotlib/axes/_base.py:2480: UserWarning: Warning: converting a masked element to nan.\n",
      "  xys = np.asarray(xys)\n",
      "/uboone/app/users/cthorpe/Mambaforge/envs/python3LEE/lib/python3.7/site-packages/matplotlib/axes/_base.py:2480: UserWarning: Warning: converting a masked element to nan.\n",
      "  xys = np.asarray(xys)\n",
      "/uboone/app/users/cthorpe/Mambaforge/envs/python3LEE/lib/python3.7/site-packages/matplotlib/axes/_base.py:2480: UserWarning: Warning: converting a masked element to nan.\n",
      "  xys = np.asarray(xys)\n",
      "/uboone/app/users/cthorpe/Mambaforge/envs/python3LEE/lib/python3.7/site-packages/matplotlib/axes/_base.py:2480: UserWarning: Warning: converting a masked element to nan.\n",
      "  xys = np.asarray(xys)\n",
      "/uboone/app/users/cthorpe/Mambaforge/envs/python3LEE/lib/python3.7/site-packages/matplotlib/axes/_base.py:2480: UserWarning: Warning: converting a masked element to nan.\n",
      "  xys = np.asarray(xys)\n",
      "/uboone/app/users/cthorpe/Mambaforge/envs/python3LEE/lib/python3.7/site-packages/matplotlib/axes/_base.py:2480: UserWarning: Warning: converting a masked element to nan.\n",
      "  xys = np.asarray(xys)\n",
      "/uboone/app/users/cthorpe/Mambaforge/envs/python3LEE/lib/python3.7/site-packages/matplotlib/axes/_base.py:2480: UserWarning: Warning: converting a masked element to nan.\n",
      "  xys = np.asarray(xys)\n",
      "/uboone/app/users/cthorpe/Mambaforge/envs/python3LEE/lib/python3.7/site-packages/matplotlib/axes/_base.py:2480: UserWarning: Warning: converting a masked element to nan.\n",
      "  xys = np.asarray(xys)\n",
      "/uboone/app/users/cthorpe/Mambaforge/envs/python3LEE/lib/python3.7/site-packages/matplotlib/axes/_base.py:2480: UserWarning: Warning: converting a masked element to nan.\n",
      "  xys = np.asarray(xys)\n",
      "/uboone/app/users/cthorpe/Mambaforge/envs/python3LEE/lib/python3.7/site-packages/matplotlib/axes/_base.py:2480: UserWarning: Warning: converting a masked element to nan.\n",
      "  xys = np.asarray(xys)\n",
      "/uboone/app/users/cthorpe/Mambaforge/envs/python3LEE/lib/python3.7/site-packages/matplotlib/axes/_base.py:2480: UserWarning: Warning: converting a masked element to nan.\n",
      "  xys = np.asarray(xys)\n",
      "/uboone/app/users/cthorpe/Mambaforge/envs/python3LEE/lib/python3.7/site-packages/matplotlib/axes/_base.py:2480: UserWarning: Warning: converting a masked element to nan.\n",
      "  xys = np.asarray(xys)\n",
      "/uboone/app/users/cthorpe/Mambaforge/envs/python3LEE/lib/python3.7/site-packages/matplotlib/axes/_base.py:2480: UserWarning: Warning: converting a masked element to nan.\n",
      "  xys = np.asarray(xys)\n",
      "/uboone/app/users/cthorpe/Mambaforge/envs/python3LEE/lib/python3.7/site-packages/matplotlib/axes/_base.py:2480: UserWarning: Warning: converting a masked element to nan.\n",
      "  xys = np.asarray(xys)\n",
      "/uboone/app/users/cthorpe/Mambaforge/envs/python3LEE/lib/python3.7/site-packages/matplotlib/axes/_base.py:2480: UserWarning: Warning: converting a masked element to nan.\n",
      "  xys = np.asarray(xys)\n",
      "/uboone/app/users/cthorpe/Mambaforge/envs/python3LEE/lib/python3.7/site-packages/matplotlib/axes/_base.py:2480: UserWarning: Warning: converting a masked element to nan.\n",
      "  xys = np.asarray(xys)\n",
      "/uboone/app/users/cthorpe/Mambaforge/envs/python3LEE/lib/python3.7/site-packages/matplotlib/axes/_base.py:2480: UserWarning: Warning: converting a masked element to nan.\n",
      "  xys = np.asarray(xys)\n",
      "/uboone/app/users/cthorpe/Mambaforge/envs/python3LEE/lib/python3.7/site-packages/matplotlib/axes/_base.py:2480: UserWarning: Warning: converting a masked element to nan.\n",
      "  xys = np.asarray(xys)\n",
      "/uboone/app/users/cthorpe/Mambaforge/envs/python3LEE/lib/python3.7/site-packages/matplotlib/axes/_base.py:2480: UserWarning: Warning: converting a masked element to nan.\n",
      "  xys = np.asarray(xys)\n",
      "/uboone/app/users/cthorpe/Mambaforge/envs/python3LEE/lib/python3.7/site-packages/matplotlib/axes/_base.py:2480: UserWarning: Warning: converting a masked element to nan.\n",
      "  xys = np.asarray(xys)\n",
      "/uboone/app/users/cthorpe/Mambaforge/envs/python3LEE/lib/python3.7/site-packages/matplotlib/axes/_base.py:2480: UserWarning: Warning: converting a masked element to nan.\n",
      "  xys = np.asarray(xys)\n",
      "/uboone/app/users/cthorpe/Mambaforge/envs/python3LEE/lib/python3.7/site-packages/matplotlib/axes/_base.py:2480: UserWarning: Warning: converting a masked element to nan.\n",
      "  xys = np.asarray(xys)\n",
      "/uboone/app/users/cthorpe/Mambaforge/envs/python3LEE/lib/python3.7/site-packages/matplotlib/axes/_base.py:2480: UserWarning: Warning: converting a masked element to nan.\n",
      "  xys = np.asarray(xys)\n",
      "/uboone/app/users/cthorpe/Mambaforge/envs/python3LEE/lib/python3.7/site-packages/matplotlib/axes/_base.py:2480: UserWarning: Warning: converting a masked element to nan.\n",
      "  xys = np.asarray(xys)\n",
      "/uboone/app/users/cthorpe/Mambaforge/envs/python3LEE/lib/python3.7/site-packages/matplotlib/axes/_base.py:2480: UserWarning: Warning: converting a masked element to nan.\n",
      "  xys = np.asarray(xys)\n",
      "/uboone/app/users/cthorpe/Mambaforge/envs/python3LEE/lib/python3.7/site-packages/matplotlib/axes/_base.py:2480: UserWarning: Warning: converting a masked element to nan.\n",
      "  xys = np.asarray(xys)\n",
      "/uboone/app/users/cthorpe/Mambaforge/envs/python3LEE/lib/python3.7/site-packages/matplotlib/axes/_base.py:2480: UserWarning: Warning: converting a masked element to nan.\n",
      "  xys = np.asarray(xys)\n",
      "/uboone/app/users/cthorpe/Mambaforge/envs/python3LEE/lib/python3.7/site-packages/matplotlib/axes/_base.py:2480: UserWarning: Warning: converting a masked element to nan.\n",
      "  xys = np.asarray(xys)\n",
      "/uboone/app/users/cthorpe/Mambaforge/envs/python3LEE/lib/python3.7/site-packages/matplotlib/axes/_base.py:2480: UserWarning: Warning: converting a masked element to nan.\n",
      "  xys = np.asarray(xys)\n",
      "/uboone/app/users/cthorpe/Mambaforge/envs/python3LEE/lib/python3.7/site-packages/matplotlib/axes/_base.py:2480: UserWarning: Warning: converting a masked element to nan.\n",
      "  xys = np.asarray(xys)\n",
      "/uboone/app/users/cthorpe/Mambaforge/envs/python3LEE/lib/python3.7/site-packages/matplotlib/axes/_base.py:2480: UserWarning: Warning: converting a masked element to nan.\n",
      "  xys = np.asarray(xys)\n",
      "/uboone/app/users/cthorpe/Mambaforge/envs/python3LEE/lib/python3.7/site-packages/matplotlib/axes/_base.py:2480: UserWarning: Warning: converting a masked element to nan.\n",
      "  xys = np.asarray(xys)\n",
      "/uboone/app/users/cthorpe/Mambaforge/envs/python3LEE/lib/python3.7/site-packages/matplotlib/axes/_base.py:2480: UserWarning: Warning: converting a masked element to nan.\n",
      "  xys = np.asarray(xys)\n",
      "/uboone/app/users/cthorpe/Mambaforge/envs/python3LEE/lib/python3.7/site-packages/matplotlib/axes/_base.py:2480: UserWarning: Warning: converting a masked element to nan.\n",
      "  xys = np.asarray(xys)\n",
      "/uboone/app/users/cthorpe/Mambaforge/envs/python3LEE/lib/python3.7/site-packages/matplotlib/axes/_base.py:2480: UserWarning: Warning: converting a masked element to nan.\n",
      "  xys = np.asarray(xys)\n",
      "/uboone/app/users/cthorpe/Mambaforge/envs/python3LEE/lib/python3.7/site-packages/matplotlib/axes/_base.py:2480: UserWarning: Warning: converting a masked element to nan.\n",
      "  xys = np.asarray(xys)\n"
     ]
    },
    {
     "name": "stderr",
     "output_type": "stream",
     "text": [
      "/uboone/app/users/cthorpe/Mambaforge/envs/python3LEE/lib/python3.7/site-packages/matplotlib/axes/_base.py:2480: UserWarning: Warning: converting a masked element to nan.\n",
      "  xys = np.asarray(xys)\n",
      "/uboone/app/users/cthorpe/Mambaforge/envs/python3LEE/lib/python3.7/site-packages/matplotlib/axes/_base.py:2480: UserWarning: Warning: converting a masked element to nan.\n",
      "  xys = np.asarray(xys)\n"
     ]
    },
    {
     "name": "stdout",
     "output_type": "stream",
     "text": [
      "Making plots for runs ['4c']\n",
      "Loading lee sample\n"
     ]
    },
    {
     "name": "stderr",
     "output_type": "stream",
     "text": [
      "/uboone/app/users/cthorpe/Mambaforge/envs/python3LEE/lib/python3.7/site-packages/matplotlib/axes/_base.py:2480: UserWarning: Warning: converting a masked element to nan.\n",
      "  xys = np.asarray(xys)\n",
      "/uboone/app/users/cthorpe/Mambaforge/envs/python3LEE/lib/python3.7/site-packages/matplotlib/axes/_base.py:2480: UserWarning: Warning: converting a masked element to nan.\n",
      "  xys = np.asarray(xys)\n",
      "/uboone/app/users/cthorpe/Mambaforge/envs/python3LEE/lib/python3.7/site-packages/matplotlib/axes/_base.py:2480: UserWarning: Warning: converting a masked element to nan.\n",
      "  xys = np.asarray(xys)\n",
      "/uboone/app/users/cthorpe/Mambaforge/envs/python3LEE/lib/python3.7/site-packages/matplotlib/axes/_base.py:2480: UserWarning: Warning: converting a masked element to nan.\n",
      "  xys = np.asarray(xys)\n",
      "/uboone/app/users/cthorpe/Mambaforge/envs/python3LEE/lib/python3.7/site-packages/matplotlib/axes/_base.py:2480: UserWarning: Warning: converting a masked element to nan.\n",
      "  xys = np.asarray(xys)\n",
      "/uboone/app/users/cthorpe/Mambaforge/envs/python3LEE/lib/python3.7/site-packages/matplotlib/axes/_base.py:2480: UserWarning: Warning: converting a masked element to nan.\n",
      "  xys = np.asarray(xys)\n",
      "/uboone/app/users/cthorpe/Mambaforge/envs/python3LEE/lib/python3.7/site-packages/matplotlib/axes/_base.py:2480: UserWarning: Warning: converting a masked element to nan.\n",
      "  xys = np.asarray(xys)\n",
      "/uboone/app/users/cthorpe/Mambaforge/envs/python3LEE/lib/python3.7/site-packages/matplotlib/axes/_base.py:2480: UserWarning: Warning: converting a masked element to nan.\n",
      "  xys = np.asarray(xys)\n",
      "/uboone/app/users/cthorpe/Mambaforge/envs/python3LEE/lib/python3.7/site-packages/matplotlib/axes/_base.py:2480: UserWarning: Warning: converting a masked element to nan.\n",
      "  xys = np.asarray(xys)\n",
      "/uboone/app/users/cthorpe/Mambaforge/envs/python3LEE/lib/python3.7/site-packages/matplotlib/axes/_base.py:2480: UserWarning: Warning: converting a masked element to nan.\n",
      "  xys = np.asarray(xys)\n",
      "/uboone/app/users/cthorpe/Mambaforge/envs/python3LEE/lib/python3.7/site-packages/matplotlib/axes/_base.py:2480: UserWarning: Warning: converting a masked element to nan.\n",
      "  xys = np.asarray(xys)\n",
      "/uboone/app/users/cthorpe/Mambaforge/envs/python3LEE/lib/python3.7/site-packages/matplotlib/axes/_base.py:2480: UserWarning: Warning: converting a masked element to nan.\n",
      "  xys = np.asarray(xys)\n",
      "/uboone/app/users/cthorpe/Mambaforge/envs/python3LEE/lib/python3.7/site-packages/matplotlib/axes/_base.py:2480: UserWarning: Warning: converting a masked element to nan.\n",
      "  xys = np.asarray(xys)\n",
      "/uboone/app/users/cthorpe/Mambaforge/envs/python3LEE/lib/python3.7/site-packages/matplotlib/axes/_base.py:2480: UserWarning: Warning: converting a masked element to nan.\n",
      "  xys = np.asarray(xys)\n",
      "/uboone/app/users/cthorpe/Mambaforge/envs/python3LEE/lib/python3.7/site-packages/matplotlib/axes/_base.py:2480: UserWarning: Warning: converting a masked element to nan.\n",
      "  xys = np.asarray(xys)\n",
      "/uboone/app/users/cthorpe/Mambaforge/envs/python3LEE/lib/python3.7/site-packages/matplotlib/axes/_base.py:2480: UserWarning: Warning: converting a masked element to nan.\n",
      "  xys = np.asarray(xys)\n"
     ]
    },
    {
     "name": "stdout",
     "output_type": "stream",
     "text": [
      "Making plots for runs ['4d']\n",
      "Loading lee sample\n"
     ]
    },
    {
     "name": "stderr",
     "output_type": "stream",
     "text": [
      "/uboone/app/users/cthorpe/Mambaforge/envs/python3LEE/lib/python3.7/site-packages/matplotlib/axes/_base.py:2480: UserWarning: Warning: converting a masked element to nan.\n",
      "  xys = np.asarray(xys)\n",
      "/uboone/app/users/cthorpe/Mambaforge/envs/python3LEE/lib/python3.7/site-packages/matplotlib/axes/_base.py:2480: UserWarning: Warning: converting a masked element to nan.\n",
      "  xys = np.asarray(xys)\n",
      "/uboone/app/users/cthorpe/Mambaforge/envs/python3LEE/lib/python3.7/site-packages/matplotlib/axes/_base.py:2480: UserWarning: Warning: converting a masked element to nan.\n",
      "  xys = np.asarray(xys)\n",
      "/uboone/app/users/cthorpe/Mambaforge/envs/python3LEE/lib/python3.7/site-packages/matplotlib/axes/_base.py:2480: UserWarning: Warning: converting a masked element to nan.\n",
      "  xys = np.asarray(xys)\n",
      "/uboone/app/users/cthorpe/Mambaforge/envs/python3LEE/lib/python3.7/site-packages/matplotlib/axes/_base.py:2480: UserWarning: Warning: converting a masked element to nan.\n",
      "  xys = np.asarray(xys)\n",
      "/uboone/app/users/cthorpe/Mambaforge/envs/python3LEE/lib/python3.7/site-packages/matplotlib/axes/_base.py:2480: UserWarning: Warning: converting a masked element to nan.\n",
      "  xys = np.asarray(xys)\n",
      "/uboone/app/users/cthorpe/Mambaforge/envs/python3LEE/lib/python3.7/site-packages/matplotlib/axes/_base.py:2480: UserWarning: Warning: converting a masked element to nan.\n",
      "  xys = np.asarray(xys)\n",
      "/uboone/app/users/cthorpe/Mambaforge/envs/python3LEE/lib/python3.7/site-packages/matplotlib/axes/_base.py:2480: UserWarning: Warning: converting a masked element to nan.\n",
      "  xys = np.asarray(xys)\n",
      "/uboone/app/users/cthorpe/Mambaforge/envs/python3LEE/lib/python3.7/site-packages/matplotlib/axes/_base.py:2480: UserWarning: Warning: converting a masked element to nan.\n",
      "  xys = np.asarray(xys)\n",
      "/uboone/app/users/cthorpe/Mambaforge/envs/python3LEE/lib/python3.7/site-packages/matplotlib/axes/_base.py:2480: UserWarning: Warning: converting a masked element to nan.\n",
      "  xys = np.asarray(xys)\n",
      "/uboone/app/users/cthorpe/Mambaforge/envs/python3LEE/lib/python3.7/site-packages/matplotlib/axes/_base.py:2480: UserWarning: Warning: converting a masked element to nan.\n",
      "  xys = np.asarray(xys)\n",
      "/uboone/app/users/cthorpe/Mambaforge/envs/python3LEE/lib/python3.7/site-packages/matplotlib/axes/_base.py:2480: UserWarning: Warning: converting a masked element to nan.\n",
      "  xys = np.asarray(xys)\n",
      "/uboone/app/users/cthorpe/Mambaforge/envs/python3LEE/lib/python3.7/site-packages/matplotlib/axes/_base.py:2480: UserWarning: Warning: converting a masked element to nan.\n",
      "  xys = np.asarray(xys)\n",
      "/uboone/app/users/cthorpe/Mambaforge/envs/python3LEE/lib/python3.7/site-packages/matplotlib/axes/_base.py:2480: UserWarning: Warning: converting a masked element to nan.\n",
      "  xys = np.asarray(xys)\n"
     ]
    },
    {
     "name": "stdout",
     "output_type": "stream",
     "text": [
      "Making plots for runs ['1', '2', '3']\n",
      "Loading lee sample\n",
      "Loading lee sample\n",
      "Loading lee sample\n"
     ]
    },
    {
     "name": "stderr",
     "output_type": "stream",
     "text": [
      "/uboone/app/users/cthorpe/Mambaforge/envs/python3LEE/lib/python3.7/site-packages/matplotlib/axes/_base.py:2480: UserWarning: Warning: converting a masked element to nan.\n",
      "  xys = np.asarray(xys)\n",
      "/uboone/app/users/cthorpe/Mambaforge/envs/python3LEE/lib/python3.7/site-packages/matplotlib/axes/_base.py:2480: UserWarning: Warning: converting a masked element to nan.\n",
      "  xys = np.asarray(xys)\n",
      "/uboone/app/users/cthorpe/Mambaforge/envs/python3LEE/lib/python3.7/site-packages/matplotlib/axes/_base.py:2480: UserWarning: Warning: converting a masked element to nan.\n",
      "  xys = np.asarray(xys)\n",
      "/uboone/app/users/cthorpe/Mambaforge/envs/python3LEE/lib/python3.7/site-packages/matplotlib/axes/_base.py:2480: UserWarning: Warning: converting a masked element to nan.\n",
      "  xys = np.asarray(xys)\n",
      "/uboone/app/users/cthorpe/Mambaforge/envs/python3LEE/lib/python3.7/site-packages/matplotlib/axes/_base.py:2480: UserWarning: Warning: converting a masked element to nan.\n",
      "  xys = np.asarray(xys)\n",
      "/uboone/app/users/cthorpe/Mambaforge/envs/python3LEE/lib/python3.7/site-packages/matplotlib/axes/_base.py:2480: UserWarning: Warning: converting a masked element to nan.\n",
      "  xys = np.asarray(xys)\n",
      "/uboone/app/users/cthorpe/Mambaforge/envs/python3LEE/lib/python3.7/site-packages/matplotlib/axes/_base.py:2480: UserWarning: Warning: converting a masked element to nan.\n",
      "  xys = np.asarray(xys)\n",
      "/uboone/app/users/cthorpe/Mambaforge/envs/python3LEE/lib/python3.7/site-packages/matplotlib/axes/_base.py:2480: UserWarning: Warning: converting a masked element to nan.\n",
      "  xys = np.asarray(xys)\n",
      "/uboone/app/users/cthorpe/Mambaforge/envs/python3LEE/lib/python3.7/site-packages/matplotlib/axes/_base.py:2480: UserWarning: Warning: converting a masked element to nan.\n",
      "  xys = np.asarray(xys)\n",
      "/uboone/app/users/cthorpe/Mambaforge/envs/python3LEE/lib/python3.7/site-packages/matplotlib/axes/_base.py:2480: UserWarning: Warning: converting a masked element to nan.\n",
      "  xys = np.asarray(xys)\n",
      "/uboone/app/users/cthorpe/Mambaforge/envs/python3LEE/lib/python3.7/site-packages/matplotlib/axes/_base.py:2480: UserWarning: Warning: converting a masked element to nan.\n",
      "  xys = np.asarray(xys)\n",
      "/uboone/app/users/cthorpe/Mambaforge/envs/python3LEE/lib/python3.7/site-packages/matplotlib/axes/_base.py:2480: UserWarning: Warning: converting a masked element to nan.\n",
      "  xys = np.asarray(xys)\n",
      "/uboone/app/users/cthorpe/Mambaforge/envs/python3LEE/lib/python3.7/site-packages/matplotlib/axes/_base.py:2480: UserWarning: Warning: converting a masked element to nan.\n",
      "  xys = np.asarray(xys)\n",
      "/uboone/app/users/cthorpe/Mambaforge/envs/python3LEE/lib/python3.7/site-packages/matplotlib/axes/_base.py:2480: UserWarning: Warning: converting a masked element to nan.\n",
      "  xys = np.asarray(xys)\n"
     ]
    },
    {
     "name": "stdout",
     "output_type": "stream",
     "text": [
      "Making plots for runs ['1', '2', '3', '4b', '4c', '4d']\n",
      "Loading lee sample\n",
      "Loading lee sample\n",
      "Loading lee sample\n",
      "Loading lee sample\n",
      "Loading lee sample\n",
      "Loading lee sample\n"
     ]
    },
    {
     "name": "stderr",
     "output_type": "stream",
     "text": [
      "/uboone/app/users/cthorpe/Mambaforge/envs/python3LEE/lib/python3.7/site-packages/matplotlib/axes/_base.py:2480: UserWarning: Warning: converting a masked element to nan.\n",
      "  xys = np.asarray(xys)\n",
      "/uboone/app/users/cthorpe/Mambaforge/envs/python3LEE/lib/python3.7/site-packages/matplotlib/axes/_base.py:2480: UserWarning: Warning: converting a masked element to nan.\n",
      "  xys = np.asarray(xys)\n",
      "/uboone/app/users/cthorpe/Mambaforge/envs/python3LEE/lib/python3.7/site-packages/matplotlib/axes/_base.py:2480: UserWarning: Warning: converting a masked element to nan.\n",
      "  xys = np.asarray(xys)\n",
      "/uboone/app/users/cthorpe/Mambaforge/envs/python3LEE/lib/python3.7/site-packages/matplotlib/axes/_base.py:2480: UserWarning: Warning: converting a masked element to nan.\n",
      "  xys = np.asarray(xys)\n",
      "/uboone/app/users/cthorpe/Mambaforge/envs/python3LEE/lib/python3.7/site-packages/matplotlib/axes/_base.py:2480: UserWarning: Warning: converting a masked element to nan.\n",
      "  xys = np.asarray(xys)\n",
      "/uboone/app/users/cthorpe/Mambaforge/envs/python3LEE/lib/python3.7/site-packages/matplotlib/axes/_base.py:2480: UserWarning: Warning: converting a masked element to nan.\n",
      "  xys = np.asarray(xys)\n",
      "/uboone/app/users/cthorpe/Mambaforge/envs/python3LEE/lib/python3.7/site-packages/matplotlib/axes/_base.py:2480: UserWarning: Warning: converting a masked element to nan.\n",
      "  xys = np.asarray(xys)\n",
      "/uboone/app/users/cthorpe/Mambaforge/envs/python3LEE/lib/python3.7/site-packages/matplotlib/axes/_base.py:2480: UserWarning: Warning: converting a masked element to nan.\n",
      "  xys = np.asarray(xys)\n",
      "/uboone/app/users/cthorpe/Mambaforge/envs/python3LEE/lib/python3.7/site-packages/matplotlib/axes/_base.py:2480: UserWarning: Warning: converting a masked element to nan.\n",
      "  xys = np.asarray(xys)\n",
      "/uboone/app/users/cthorpe/Mambaforge/envs/python3LEE/lib/python3.7/site-packages/matplotlib/axes/_base.py:2480: UserWarning: Warning: converting a masked element to nan.\n",
      "  xys = np.asarray(xys)\n",
      "/uboone/app/users/cthorpe/Mambaforge/envs/python3LEE/lib/python3.7/site-packages/matplotlib/axes/_base.py:2480: UserWarning: Warning: converting a masked element to nan.\n",
      "  xys = np.asarray(xys)\n",
      "/uboone/app/users/cthorpe/Mambaforge/envs/python3LEE/lib/python3.7/site-packages/matplotlib/axes/_base.py:2480: UserWarning: Warning: converting a masked element to nan.\n",
      "  xys = np.asarray(xys)\n",
      "/uboone/app/users/cthorpe/Mambaforge/envs/python3LEE/lib/python3.7/site-packages/matplotlib/axes/_base.py:2480: UserWarning: Warning: converting a masked element to nan.\n",
      "  xys = np.asarray(xys)\n",
      "/uboone/app/users/cthorpe/Mambaforge/envs/python3LEE/lib/python3.7/site-packages/matplotlib/axes/_base.py:2480: UserWarning: Warning: converting a masked element to nan.\n",
      "  xys = np.asarray(xys)\n"
     ]
    }
   ],
   "source": [
    "variables = [vdef.NP_far_sideband_variables,vdef.ZP_far_sideband_variables,vdef.bdtscore_variables]\n",
    "selections = [\"None\",\"None\",\"NPVL\",\"NPL\",\"ZPLOOSESEL\",\"NPBDT\",\"ZPBDT\"]\n",
    "preselections = [\"NP\",\"ZP\",\"NP\",\"NP\",\"ZP\",\"NP\",\"ZP\"]\n",
    "\n",
    "draw_sideband(RUN_COMBOS_vv,\n",
    "            selections,\n",
    "            preselections,\n",
    "            variables,\n",
    "            \"shr_energy_sideband\",\n",
    "            loadpi0variables=True,\n",
    "            loadshowervariables=True,\n",
    "            loadrecoveryvars=True,\n",
    "            loadsystematics=True,\n",
    "            load_lee=True,\n",
    "            blinded=False,\n",
    "            enable_cache=True,\n",
    "            numupresel=False,\n",
    "            loadnumuvariables=False,\n",
    "            use_bdt=True,\n",
    "            load_numu_tki=False)"
   ]
  },
  {
   "cell_type": "markdown",
   "metadata": {},
   "source": [
    "### Pi0 Sideband ###"
   ]
  },
  {
   "cell_type": "code",
   "execution_count": 7,
   "metadata": {
    "scrolled": false
   },
   "outputs": [
    {
     "name": "stdout",
     "output_type": "stream",
     "text": [
      "Making plots for runs ['1']\n",
      "Loading lee sample\n"
     ]
    },
    {
     "name": "stderr",
     "output_type": "stream",
     "text": [
      "/uboone/app/users/cthorpe/Mambaforge/envs/python3LEE/lib/python3.7/site-packages/matplotlib/axes/_base.py:2480: UserWarning: Warning: converting a masked element to nan.\n",
      "  xys = np.asarray(xys)\n",
      "/uboone/app/users/cthorpe/Mambaforge/envs/python3LEE/lib/python3.7/site-packages/matplotlib/axes/_base.py:2480: UserWarning: Warning: converting a masked element to nan.\n",
      "  xys = np.asarray(xys)\n"
     ]
    }
   ],
   "source": [
    "variables = [vdef.pi0_variables]\n",
    "selections = [\"PI0\",\"ZPLOOSETWOSHR\",\"ZPBDTTWOSHR\"]\n",
    "preselections = [\"PI0\",\"ZP\",\"ZP\"]\n",
    "\n",
    "draw_sideband(RUN_COMBOS_vv,\n",
    "            selections,\n",
    "            preselections,\n",
    "            variables,\n",
    "            \"two_shr_sideband\",\n",
    "            loadpi0variables=True,\n",
    "            loadshowervariables=True,\n",
    "            loadrecoveryvars=True,\n",
    "            loadsystematics=True,\n",
    "            load_lee=True,\n",
    "            blinded=False,\n",
    "            enable_cache=True,\n",
    "            numupresel=False,\n",
    "            loadnumuvariables=False,\n",
    "            use_bdt=True,\n",
    "            load_numu_tki=False)"
   ]
  },
  {
   "cell_type": "markdown",
   "metadata": {},
   "source": [
    "### Near/Far Sidebands ###"
   ]
  },
  {
   "cell_type": "code",
   "execution_count": 8,
   "metadata": {
    "scrolled": false
   },
   "outputs": [
    {
     "name": "stdout",
     "output_type": "stream",
     "text": [
      "Making plots for runs ['1']\n",
      "Loading lee sample\n"
     ]
    },
    {
     "name": "stderr",
     "output_type": "stream",
     "text": [
      "/uboone/app/users/cthorpe/Mambaforge/envs/python3LEE/lib/python3.7/site-packages/matplotlib/axes/_base.py:2480: UserWarning: Warning: converting a masked element to nan.\n",
      "  xys = np.asarray(xys)\n"
     ]
    },
    {
     "name": "stdout",
     "output_type": "stream",
     "text": [
      "Making plots for runs ['1']\n",
      "Loading lee sample\n"
     ]
    }
   ],
   "source": [
    "variables = [vdef.NP_near_sideband_variables]\n",
    "selections = [\"NP_NEAR_SIDEBAND\",\"NP_FAR_SIDEBAND\"]\n",
    "preselections = [\"NP\",\"NP\"]\n",
    "\n",
    "draw_sideband(RUN_COMBOS_vv,\n",
    "            selections,\n",
    "            preselections,\n",
    "            variables,\n",
    "            \"bdt_sideband\",\n",
    "            loadpi0variables=True,\n",
    "            loadshowervariables=True,\n",
    "            loadrecoveryvars=True,\n",
    "            loadsystematics=True,\n",
    "            load_lee=True,\n",
    "            blinded=False,\n",
    "            enable_cache=True,\n",
    "            numupresel=False,\n",
    "            loadnumuvariables=False,\n",
    "            use_bdt=True,\n",
    "            load_numu_tki=False)\n",
    "\n",
    "variables = [vdef.ZP_near_sideband_variables]\n",
    "selections = [\"ZP_NEAR_SIDEBAND\",\"ZP_FAR_SIDEBAND\"]\n",
    "preselections = [\"ZP\",\"ZP\"]\n",
    "\n",
    "draw_sideband(RUN_COMBOS_vv,\n",
    "            selections,\n",
    "            preselections,\n",
    "            variables,\n",
    "            \"bdt_sideband\",\n",
    "            loadpi0variables=True,\n",
    "            loadshowervariables=True,\n",
    "            loadrecoveryvars=True,\n",
    "            loadsystematics=True,\n",
    "            load_lee=True,\n",
    "            blinded=False,\n",
    "            enable_cache=True,\n",
    "            numupresel=False,\n",
    "            loadnumuvariables=False,\n",
    "            use_bdt=True,\n",
    "            load_numu_tki=False)"
   ]
  },
  {
   "cell_type": "code",
   "execution_count": null,
   "metadata": {},
   "outputs": [],
   "source": []
  },
  {
   "cell_type": "code",
   "execution_count": null,
   "metadata": {},
   "outputs": [],
   "source": []
  }
 ],
 "metadata": {
  "kernelspec": {
   "display_name": "Python 3 (ipykernel)",
   "language": "python",
   "name": "python3"
  },
  "language_info": {
   "codemirror_mode": {
    "name": "ipython",
    "version": 3
   },
   "file_extension": ".py",
   "mimetype": "text/x-python",
   "name": "python",
   "nbconvert_exporter": "python",
   "pygments_lexer": "ipython3",
   "version": "3.7.12"
  }
 },
 "nbformat": 4,
 "nbformat_minor": 2
}
