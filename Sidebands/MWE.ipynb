{
 "cells": [
  {
   "cell_type": "markdown",
   "metadata": {},
   "source": [
    "## Produce Plots for the Pi0, NuMU, 2+ Shower, Near Sideband, Far Sideband ##"
   ]
  },
  {
   "cell_type": "code",
   "execution_count": 1,
   "metadata": {},
   "outputs": [],
   "source": [
    "%load_ext autoreload\n",
    "%autoreload 2"
   ]
  },
  {
   "cell_type": "code",
   "execution_count": 2,
   "metadata": {},
   "outputs": [],
   "source": [
    "import sys\n",
    "import numpy as np\n",
    "sys.path.append(\"../\")\n",
    "import data_loading as dl\n",
    "import os\n",
    "from microfit import run_plotter as rp\n",
    "from microfit import histogram as hist\n",
    "import matplotlib.pyplot as plt\n",
    "from microfit import variable_definitions as vdef\n",
    "from microfit import selections"
   ]
  },
  {
   "cell_type": "code",
   "execution_count": 3,
   "metadata": {},
   "outputs": [],
   "source": [
    "run_combo = [\"1\"]\n",
    "\n",
    "sideband = \"two_shr_sideband\"\n",
    "title = None\n",
    "\n",
    "variables = vdef.pi0_variables\n",
    "selection = \"ZPBDTTWOSHR\"\n",
    "preselection = \"ZP\"\n",
    "DATASET = \"two_shr_sideband\""
   ]
  },
  {
   "cell_type": "code",
   "execution_count": 4,
   "metadata": {},
   "outputs": [
    {
     "name": "stdout",
     "output_type": "stream",
     "text": [
      "Loading lee sample\n"
     ]
    }
   ],
   "source": [
    "rundata, mc_weights, data_pot = dl.load_runs(\n",
    "  run_combo,\n",
    "  data=DATASET,\n",
    "  truth_filtered_sets=[\"nue\",\"drt\"],\n",
    "  loadpi0variables=True,\n",
    "  loadshowervariables=True,\n",
    "  loadrecoveryvars=True,\n",
    "  loadsystematics=True,\n",
    "  load_lee=True,\n",
    "  blinded=False,\n",
    "  enable_cache=True,\n",
    "  numupresel=False,\n",
    "  loadnumuvariables=False,\n",
    "  use_bdt=True,\n",
    "  load_numu_tki=False\n",
    ")\n"
   ]
  },
  {
   "cell_type": "code",
   "execution_count": 18,
   "metadata": {
    "scrolled": false
   },
   "outputs": [
    {
     "name": "stdout",
     "output_type": "stream",
     "text": [
      "epicospi\n",
      "central_value\n",
      "[0.06014376 0.99336866 1.14590225 0.63731189 0.7414614  0.4448825\n",
      " 0.30965642 0.17269265 0.30130194 0.13758571 0.26987887 0.15440288\n",
      " 0.00726266 0.14033271 0.         0.00356447 0.52074401 0.00456075\n",
      " 0.003198   0.13756825 0.         0.00358185 0.13782836 0.01727956\n",
      " 0.00319962 0.1337948  0.         0.         0.00319724 0.00724829\n",
      " 0.         0.         0.00366709 0.130186   0.00319724 0.\n",
      " 0.         0.         0.         0.        ]\n",
      "obserations\n",
      "[[0.04774915 1.03194587 1.10837507 ... 0.         0.         0.        ]\n",
      " [0.04341678 0.9009026  0.92320837 ... 0.         0.         0.        ]\n",
      " [0.04390516 0.69295838 0.69506    ... 0.         0.         0.        ]\n",
      " ...\n",
      " [0.06634699 0.62685917 0.73271503 ... 0.         0.         0.        ]\n",
      " [0.05783737 0.85304776 1.03505327 ... 0.         0.         0.        ]\n",
      " [0.06786009 0.83775909 1.03983631 ... 0.         0.         0.        ]]\n"
     ]
    },
    {
     "ename": "ValueError",
     "evalue": "Non-zero part of covariance matrix is not positive semi-definite. Matrix is: [[1.00408829e-04 1.12698499e-04 7.12867084e-04 ... 0.00000000e+00\n  0.00000000e+00 0.00000000e+00]\n [1.12698499e-04 9.27812495e-02 8.28643653e-02 ... 0.00000000e+00\n  0.00000000e+00 0.00000000e+00]\n [7.12867084e-04 8.28643653e-02 1.08751349e-01 ... 0.00000000e+00\n  0.00000000e+00 0.00000000e+00]\n ...\n [0.00000000e+00 0.00000000e+00 0.00000000e+00 ... 0.00000000e+00\n  0.00000000e+00 0.00000000e+00]\n [0.00000000e+00 0.00000000e+00 0.00000000e+00 ... 0.00000000e+00\n  0.00000000e+00 0.00000000e+00]\n [0.00000000e+00 0.00000000e+00 0.00000000e+00 ... 0.00000000e+00\n  0.00000000e+00 0.00000000e+00]]",
     "output_type": "error",
     "traceback": [
      "\u001b[0;31m---------------------------------------------------------------------------\u001b[0m",
      "\u001b[0;31mValueError\u001b[0m                                Traceback (most recent call last)",
      "\u001b[0;32m/tmp/ipykernel_25013/2852466283.py\u001b[0m in \u001b[0;36m<module>\u001b[0;34m\u001b[0m\n\u001b[1;32m     24\u001b[0m       \u001b[0madd_ext_error_floor\u001b[0m\u001b[0;34m=\u001b[0m\u001b[0;32mTrue\u001b[0m\u001b[0;34m,\u001b[0m\u001b[0;34m\u001b[0m\u001b[0;34m\u001b[0m\u001b[0m\n\u001b[1;32m     25\u001b[0m       \u001b[0mshow_data_mc_ratio\u001b[0m\u001b[0;34m=\u001b[0m\u001b[0;32mTrue\u001b[0m\u001b[0;34m,\u001b[0m\u001b[0;34m\u001b[0m\u001b[0;34m\u001b[0m\u001b[0m\n\u001b[0;32m---> 26\u001b[0;31m       \u001b[0mshow_chi_square\u001b[0m\u001b[0;34m=\u001b[0m\u001b[0;32mTrue\u001b[0m\u001b[0;34m,\u001b[0m\u001b[0;34m\u001b[0m\u001b[0;34m\u001b[0m\u001b[0m\n\u001b[0m\u001b[1;32m     27\u001b[0m     )\n",
      "\u001b[0;32m/uboone/app/users/cthorpe/RefactoredPELEE/microfit/run_plotter.py\u001b[0m in \u001b[0;36mplot\u001b[0;34m(self, category_column, include_multisim_errors, show_chi_square, add_ext_error_floor, show_data_mc_ratio, use_sideband, ax, scale_to_pot, uncertainty_color, stacked, show_total, channel, add_precomputed_detsys, **kwargs)\u001b[0m\n\u001b[1;32m     98\u001b[0m             \u001b[0mscale_to_pot\u001b[0m\u001b[0;34m=\u001b[0m\u001b[0mscale_to_pot\u001b[0m\u001b[0;34m,\u001b[0m\u001b[0;34m\u001b[0m\u001b[0;34m\u001b[0m\u001b[0m\n\u001b[1;32m     99\u001b[0m             \u001b[0muse_sideband\u001b[0m\u001b[0;34m=\u001b[0m\u001b[0muse_sideband\u001b[0m\u001b[0;34m,\u001b[0m\u001b[0;34m\u001b[0m\u001b[0;34m\u001b[0m\u001b[0m\n\u001b[0;32m--> 100\u001b[0;31m             \u001b[0madd_precomputed_detsys\u001b[0m\u001b[0;34m=\u001b[0m\u001b[0madd_precomputed_detsys\u001b[0m\u001b[0;34m,\u001b[0m\u001b[0;34m\u001b[0m\u001b[0;34m\u001b[0m\u001b[0m\n\u001b[0m\u001b[1;32m    101\u001b[0m         )\n\u001b[1;32m    102\u001b[0m         \u001b[0mtotal_pred_hist\u001b[0m \u001b[0;34m=\u001b[0m \u001b[0mflatten\u001b[0m\u001b[0;34m(\u001b[0m\u001b[0mtotal_mc_hist\u001b[0m\u001b[0;34m)\u001b[0m\u001b[0;34m\u001b[0m\u001b[0;34m\u001b[0m\u001b[0m\n",
      "\u001b[0;32m/uboone/app/users/cthorpe/RefactoredPELEE/microfit/histogram.py\u001b[0m in \u001b[0;36mget_mc_hist\u001b[0;34m(self, include_multisim_errors, extra_query, scale_to_pot, use_sideband, add_precomputed_detsys)\u001b[0m\n\u001b[1;32m   1314\u001b[0m             \u001b[0msideband_observed_hist\u001b[0m\u001b[0;34m=\u001b[0m\u001b[0msideband_observed_hist\u001b[0m\u001b[0;34m,\u001b[0m\u001b[0;34m\u001b[0m\u001b[0;34m\u001b[0m\u001b[0m\n\u001b[1;32m   1315\u001b[0m             \u001b[0mextra_query\u001b[0m\u001b[0;34m=\u001b[0m\u001b[0mextra_query\u001b[0m\u001b[0;34m,\u001b[0m\u001b[0;34m\u001b[0m\u001b[0;34m\u001b[0m\u001b[0m\n\u001b[0;32m-> 1316\u001b[0;31m             \u001b[0madd_precomputed_detsys\u001b[0m\u001b[0;34m=\u001b[0m\u001b[0madd_precomputed_detsys\u001b[0m\u001b[0;34m,\u001b[0m\u001b[0;34m\u001b[0m\u001b[0;34m\u001b[0m\u001b[0m\n\u001b[0m\u001b[1;32m   1317\u001b[0m         )\n\u001b[1;32m   1318\u001b[0m         \u001b[0mhist\u001b[0m\u001b[0;34m.\u001b[0m\u001b[0mlabel\u001b[0m \u001b[0;34m=\u001b[0m \u001b[0;34m\"MC\"\u001b[0m\u001b[0;34m\u001b[0m\u001b[0;34m\u001b[0m\u001b[0m\n",
      "\u001b[0;32m/uboone/app/users/cthorpe/RefactoredPELEE/microfit/histogram.py\u001b[0m in \u001b[0;36mgenerate\u001b[0;34m(self, include_multisim_errors, use_sideband, extra_query, sideband_generator, sideband_total_prediction, sideband_observed_hist, add_precomputed_detsys)\u001b[0m\n\u001b[1;32m   1727\u001b[0m             \u001b[0;32mfor\u001b[0m \u001b[0mms_column\u001b[0m \u001b[0;32min\u001b[0m \u001b[0;34m[\u001b[0m\u001b[0;34m\"weightsGenie\"\u001b[0m\u001b[0;34m,\u001b[0m \u001b[0;34m\"weightsFlux\"\u001b[0m\u001b[0;34m,\u001b[0m \u001b[0;34m\"weightsReint\"\u001b[0m\u001b[0;34m]\u001b[0m\u001b[0;34m:\u001b[0m\u001b[0;34m\u001b[0m\u001b[0;34m\u001b[0m\u001b[0m\n\u001b[1;32m   1728\u001b[0m                 cov_mat, universe_hists = self.calculate_multisim_uncertainties(\n\u001b[0;32m-> 1729\u001b[0;31m                     \u001b[0mms_column\u001b[0m\u001b[0;34m,\u001b[0m \u001b[0mextra_query\u001b[0m\u001b[0;34m=\u001b[0m\u001b[0mextra_query\u001b[0m\u001b[0;34m,\u001b[0m \u001b[0mreturn_histograms\u001b[0m\u001b[0;34m=\u001b[0m\u001b[0;32mTrue\u001b[0m\u001b[0;34m,\u001b[0m\u001b[0;34m\u001b[0m\u001b[0;34m\u001b[0m\u001b[0m\n\u001b[0m\u001b[1;32m   1730\u001b[0m                 )\n\u001b[1;32m   1731\u001b[0m                 \u001b[0mhist\u001b[0m\u001b[0;34m.\u001b[0m\u001b[0madd_covariance\u001b[0m\u001b[0;34m(\u001b[0m\u001b[0mcov_mat\u001b[0m\u001b[0;34m)\u001b[0m\u001b[0;34m\u001b[0m\u001b[0;34m\u001b[0m\u001b[0m\n",
      "\u001b[0;32m/uboone/app/users/cthorpe/RefactoredPELEE/microfit/histogram.py\u001b[0m in \u001b[0;36mcalculate_multisim_uncertainties\u001b[0;34m(self, multisim_weight_column, weight_rescale, weight_column, central_value_hist, extra_query, return_histograms)\u001b[0m\n\u001b[1;32m   2042\u001b[0m             \u001b[0mcentral_value_hist\u001b[0m \u001b[0;34m=\u001b[0m \u001b[0mself\u001b[0m\u001b[0;34m.\u001b[0m\u001b[0m_histogram_multi_channel\u001b[0m\u001b[0;34m(\u001b[0m\u001b[0mdataframe\u001b[0m\u001b[0;34m)\u001b[0m\u001b[0;34m\u001b[0m\u001b[0;34m\u001b[0m\u001b[0m\n\u001b[1;32m   2043\u001b[0m         \u001b[0;31m# calculate the covariance matrix from the histograms\u001b[0m\u001b[0;34m\u001b[0m\u001b[0;34m\u001b[0m\u001b[0;34m\u001b[0m\u001b[0m\n\u001b[0;32m-> 2044\u001b[0;31m         \u001b[0mcov\u001b[0m \u001b[0;34m=\u001b[0m \u001b[0mcovariance\u001b[0m\u001b[0;34m(\u001b[0m\u001b[0muniverse_histograms\u001b[0m\u001b[0;34m,\u001b[0m \u001b[0mcentral_value_hist\u001b[0m\u001b[0;34m.\u001b[0m\u001b[0mnominal_values\u001b[0m\u001b[0;34m)\u001b[0m\u001b[0;34m\u001b[0m\u001b[0;34m\u001b[0m\u001b[0m\n\u001b[0m\u001b[1;32m   2045\u001b[0m         \u001b[0mself\u001b[0m\u001b[0;34m.\u001b[0m\u001b[0mlogger\u001b[0m\u001b[0;34m.\u001b[0m\u001b[0mdebug\u001b[0m\u001b[0;34m(\u001b[0m\u001b[0;34mf\"Calculated covariance matrix for {multisim_weight_column}.\"\u001b[0m\u001b[0;34m)\u001b[0m\u001b[0;34m\u001b[0m\u001b[0;34m\u001b[0m\u001b[0m\n\u001b[1;32m   2046\u001b[0m         \u001b[0mself\u001b[0m\u001b[0;34m.\u001b[0m\u001b[0mlogger\u001b[0m\u001b[0;34m.\u001b[0m\u001b[0mdebug\u001b[0m\u001b[0;34m(\u001b[0m\u001b[0;34mf\"Bin-wise error contribution: {np.sqrt(np.diag(cov))}\"\u001b[0m\u001b[0;34m)\u001b[0m\u001b[0;34m\u001b[0m\u001b[0;34m\u001b[0m\u001b[0m\n",
      "\u001b[0;32m/uboone/app/users/cthorpe/RefactoredPELEE/microfit/statistics.py\u001b[0m in \u001b[0;36mcovariance\u001b[0;34m(observations, central_value, allow_approximation, debug_name, tolerance)\u001b[0m\n\u001b[1;32m    195\u001b[0m                 )\n\u001b[1;32m    196\u001b[0m         \u001b[0;32melse\u001b[0m\u001b[0;34m:\u001b[0m\u001b[0;34m\u001b[0m\u001b[0;34m\u001b[0m\u001b[0m\n\u001b[0;32m--> 197\u001b[0;31m             \u001b[0;32mraise\u001b[0m \u001b[0mValueError\u001b[0m\u001b[0;34m(\u001b[0m\u001b[0;34mf\"Non-zero part of covariance matrix is not positive semi-definite. Matrix is: {cov}\"\u001b[0m\u001b[0;34m)\u001b[0m\u001b[0;34m\u001b[0m\u001b[0;34m\u001b[0m\u001b[0m\n\u001b[0m\u001b[1;32m    198\u001b[0m \u001b[0;34m\u001b[0m\u001b[0m\n\u001b[1;32m    199\u001b[0m     \u001b[0;31m# Now we need to add back the rows and columns that we deleted before.\u001b[0m\u001b[0;34m\u001b[0m\u001b[0;34m\u001b[0m\u001b[0;34m\u001b[0m\u001b[0m\n",
      "\u001b[0;31mValueError\u001b[0m: Non-zero part of covariance matrix is not positive semi-definite. Matrix is: [[1.00408829e-04 1.12698499e-04 7.12867084e-04 ... 0.00000000e+00\n  0.00000000e+00 0.00000000e+00]\n [1.12698499e-04 9.27812495e-02 8.28643653e-02 ... 0.00000000e+00\n  0.00000000e+00 0.00000000e+00]\n [7.12867084e-04 8.28643653e-02 1.08751349e-01 ... 0.00000000e+00\n  0.00000000e+00 0.00000000e+00]\n ...\n [0.00000000e+00 0.00000000e+00 0.00000000e+00 ... 0.00000000e+00\n  0.00000000e+00 0.00000000e+00]\n [0.00000000e+00 0.00000000e+00 0.00000000e+00 ... 0.00000000e+00\n  0.00000000e+00 0.00000000e+00]\n [0.00000000e+00 0.00000000e+00 0.00000000e+00 ... 0.00000000e+00\n  0.00000000e+00 0.00000000e+00]]"
     ]
    }
   ],
   "source": [
    "variables = [(\"epicospi\", 40, (000, 800), \"$\\pi^0$ $\\cos{\\theta}$ $\\times$ $E_{\\pi}$\")]\n",
    "\n",
    "for binning_def in variables:\n",
    "\n",
    "    print(binning_def[0])\n",
    "    \n",
    "    binning = hist.Binning.from_config(*binning_def[:4])\n",
    "\n",
    "    signal_generator = hist.RunHistGenerator(\n",
    "      rundata,\n",
    "      binning,\n",
    "      data_pot=data_pot,\n",
    "      selection=selection,\n",
    "      preselection=preselection,\n",
    "      sideband_generator=None,\n",
    "      uncertainty_defaults=None,\n",
    "    )\n",
    "    \n",
    "    plotter = rp.RunHistPlotter(signal_generator)\n",
    "   \n",
    "    axes = plotter.plot(\n",
    "      category_column=\"paper_category\",\n",
    "      include_multisim_errors=True,\n",
    "      add_ext_error_floor=True,\n",
    "      show_data_mc_ratio=True,\n",
    "      show_chi_square=True,\n",
    "    )"
   ]
  },
  {
   "cell_type": "markdown",
   "metadata": {},
   "source": [
    "#### Select the Runs to be plotted ####"
   ]
  }
 ],
 "metadata": {
  "kernelspec": {
   "display_name": "Python 3 (ipykernel)",
   "language": "python",
   "name": "python3"
  },
  "language_info": {
   "codemirror_mode": {
    "name": "ipython",
    "version": 3
   },
   "file_extension": ".py",
   "mimetype": "text/x-python",
   "name": "python",
   "nbconvert_exporter": "python",
   "pygments_lexer": "ipython3",
   "version": "3.7.12"
  }
 },
 "nbformat": 4,
 "nbformat_minor": 2
}
