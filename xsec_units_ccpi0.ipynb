{
 "cells": [
  {
   "cell_type": "raw",
   "id": "6042e1c4",
   "metadata": {},
   "source": [
    "import sys\n",
    "import localSettings as ls\n",
    "import os\n",
    "print(ls.main_path)"
   ]
  },
  {
   "cell_type": "raw",
   "id": "68ebe270",
   "metadata": {},
   "source": [
    "main_path = ls.main_path\n",
    "sys.path.append(main_path)"
   ]
  },
  {
   "cell_type": "raw",
   "id": "e4f07212",
   "metadata": {},
   "source": [
    "from datetime import datetime\n",
    "now = datetime.now()\n",
    "date_time = now.strftime(\"%m%d%Y\")\n",
    "print(\"date and time:\",date_time)"
   ]
  },
  {
   "cell_type": "raw",
   "id": "734e014d",
   "metadata": {},
   "source": [
    "import plotter\n",
    "import importlib\n",
    "importlib.reload(plotter)\n",
    "import uproot\n",
    "import matplotlib.pylab as pylab\n",
    "import numpy as np\n",
    "import math\n",
    "from sklearn.model_selection import train_test_split\n",
    "import pickle\n",
    "#if USEBDT:\n",
    "import xgboost as xgb\n",
    "import nue_booster \n",
    "importlib.reload(nue_booster)\n",
    "import awkward\n",
    "import pandas as pd\n",
    "from matplotlib import pyplot as plt\n",
    "\n",
    "params = {\n",
    "    'axes.labelsize': 'x-large',\n",
    "    'axes.titlesize': 'x-large',\n",
    "    'xtick.labelsize': 'x-large',\n",
    "    'ytick.labelsize': 'x-large'\n",
    "}\n",
    "pylab.rcParams.update(params)"
   ]
  },
  {
   "cell_type": "raw",
   "id": "27a5a256",
   "metadata": {},
   "source": [
    "rf = uproot.open(\"MomClosure_FDS_reg_on_Identity.root\")\n",
    "th1= rf[\"unf_signal\"]\n",
    "err1 = rf['absError']\n",
    "th2 = rf['smeared_true_sig']\n",
    "unf_COV = rf['unf_cov']\n",
    "unf_COV_vals = unf_COV.values\n",
    "true_vals = th2.values\n",
    "bin_edges = th1.edges\n",
    "bin_vals = th1.values\n",
    "err1_vals = err1.values\n",
    "bincenters = 0.5*(bin_edges[1:]+bin_edges[:-1])\n",
    "fig = plt.figure(figsize=(10,10))\n",
    "ax = fig.add_subplot(111)\n",
    "#ax.hist(bincenters,bins=bin_edges, weights= bin_vals, histtype='step',label='Unfolded Signal',color='black',linestyle='dashed', lw = 2)\n",
    "ax.errorbar(bincenters,bin_vals,yerr=err1_vals,xerr=(bin_edges[:-1]-bin_edges[1:])/2,fmt = 'o-',label= 'Unfolded Signal',linestyle='', color='black', lw = 2 )\n",
    "ax.hist(bincenters,bins=bin_edges,weights=true_vals, histtype='step',label='Smeared True Signal',color='red', lw = 2)\n",
    "ax.set_xlabel('pi0 Momentum', fontsize=20)\n",
    "ax.set_ylabel('Events', fontsize=20)\n",
    "ax.set_xticks(bin_edges)\n",
    "ax.set_xlim(bin_edges[0],bin_edges[-1])\n",
    "#ax.hist(bins[:-1], bins, weights=n,color='lightgray',label='signal no sel.')\n",
    "ax.legend(ncol=2, prop={'size': 15})\n",
    "#ax.grid(True)\n",
    "plt.tight_layout()\n",
    "fig.show()\n",
    "print(bin_vals)\n",
    "print(err1_vals)\n",
    "'''handles, labels = ax.get_legend_handles_labels()\n",
    "new_handles = [Line2D([], [], c=h.get_edgecolor()) for h in handles]\n",
    "plt.legend(handles=new_handles, labels=labels,loc=2,ncol=3,frameon=False, prop={'size': 15})\n",
    "'''\n",
    "print(bin_vals)"
   ]
  },
  {
   "cell_type": "raw",
   "id": "8ea641c3",
   "metadata": {},
   "source": [
    "#FV for PeLEE\n",
    "x = [3.45,249.8]\n",
    "y = [-109.53, 111.47]\n",
    "z = [20.1, 986.9]\n",
    "ro_Ar = 1.3836\n",
    "N_A = 6.02214e23\n",
    "m_Ar = 39.95\n",
    "for i in range(1):\n",
    "    xx = x[i+1]- x[i]\n",
    "    yy = y[i+1]- y[i]\n",
    "    zz = z[i+1]- z[i]\n",
    "    V = xx*yy*zz\n",
    "\n",
    "N_targets = (ro_Ar * V * N_A)/m_Ar\n",
    "flux_cm2 = 5.01e11 # cm^-2\n",
    "print(N_targets)\n",
    "print(flux_cm2)"
   ]
  },
  {
   "cell_type": "raw",
   "id": "888c06dd",
   "metadata": {},
   "source": [
    "b_width = (bin_edges[1:]- bin_edges[:-1])\n",
    "b_width"
   ]
  },
  {
   "cell_type": "raw",
   "id": "c33ed262",
   "metadata": {},
   "source": [
    "xsec_unf_sig = bin_vals/b_width\n",
    "xsec_unf_sig/= (N_targets*flux_cm2)\n",
    "xsec_unf_sig"
   ]
  },
  {
   "cell_type": "raw",
   "id": "4fe35fb5",
   "metadata": {},
   "source": [
    "xsec_true_vals = true_vals/b_width\n",
    "xsec_true_vals/= (N_targets*flux_cm2)\n",
    "xsec_true_vals"
   ]
  },
  {
   "cell_type": "raw",
   "id": "ed0e48ae",
   "metadata": {},
   "source": [
    "unf_COV = rf['unf_cov']\n",
    "unf_COV_vals = unf_COV.values\n",
    "unf_COV_vals"
   ]
  },
  {
   "cell_type": "raw",
   "id": "81858dff",
   "metadata": {},
   "source": [
    "np.diag(unf_COV_vals)\n",
    "err_ = np.diag(np.sqrt(unf_COV_vals))\n",
    "unf_xsec = unf_COV_vals/(b_width*b_width* N_targets*flux_cm2*N_targets*flux_cm2)\n",
    "err_xsec = np.diag(np.sqrt(unf_xsec))\n",
    "err_xsec"
   ]
  },
  {
   "cell_type": "raw",
   "id": "901c3f81",
   "metadata": {},
   "source": [
    "fig1 = plt.figure(figsize=(10,10))\n",
    "ax1 = fig1.add_subplot(111)\n",
    "ax1.errorbar(bincenters,xsec_unf_sig,yerr=err_xsec,xerr=(bin_edges[:-1]-bin_edges[1:])/2,fmt = 'o-',label= 'Unfolded Signal',linestyle='', color='black', lw = 2 )\n",
    "ax1.hist(bincenters,bins=bin_edges,weights=xsec_true_vals, histtype='step',label='Smeared True Signal',color='red', lw = 2)\n",
    "ax1.set_xlabel('pi0 Momentum', fontsize=20)\n",
    "ax1.set_ylabel('xsec', fontsize=20)\n",
    "ax1.set_xticks(bin_edges)\n",
    "ax1.set_xlim(bin_edges[0],bin_edges[-1])\n",
    "#ax.hist(bins[:-1], bins, weights=n,color='lightgray',label='signal no sel.')\n",
    "ax1.legend(ncol=2, prop={'size': 15})\n",
    "#ax.grid(True)\n",
    "plt.tight_layout()\n",
    "fig.show()"
   ]
  }
 ],
 "metadata": {
  "kernelspec": {
   "display_name": "Python 3 (ipykernel)",
   "language": "python",
   "name": "python3"
  },
  "language_info": {
   "codemirror_mode": {
    "name": "ipython",
    "version": 3
   },
   "file_extension": ".py",
   "mimetype": "text/x-python",
   "name": "python",
   "nbconvert_exporter": "python",
   "pygments_lexer": "ipython3",
   "version": "3.7.12"
  }
 },
 "nbformat": 4,
 "nbformat_minor": 5
}
B