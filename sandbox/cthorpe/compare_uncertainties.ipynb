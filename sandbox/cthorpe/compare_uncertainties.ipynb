{
 "cells": [
  {
   "cell_type": "code",
   "execution_count": 1,
   "metadata": {},
   "outputs": [],
   "source": [
    "%load_ext autoreload\n",
    "%autoreload 2"
   ]
  },
  {
   "cell_type": "code",
   "execution_count": 2,
   "metadata": {},
   "outputs": [],
   "source": [
    "import sys\n",
    "import numpy as np\n",
    "sys.path.append(\"../../\")\n",
    "import data_loading as dl\n",
    "\n",
    "from microfit import run_plotter as rp\n",
    "from microfit import histogram as hist\n",
    "from microfit import selections as sel\n",
    "from microfit.run_plotter import RunHistPlotter\n",
    "from microfit.histogram import Binning, MultiChannelBinning\n",
    "import make_detsys as detsys"
   ]
  },
  {
   "cell_type": "markdown",
   "metadata": {},
   "source": [
    "### Load the Data ###"
   ]
  },
  {
   "cell_type": "code",
   "execution_count": 3,
   "metadata": {},
   "outputs": [],
   "source": [
    "RUN = [\"1\",\"2\",\"3\",\"4b\",\"4c\",\"4d\",\"5\"]\n",
    "binning_def = (\"reco_e\", 10, (0.15, 1.55), \"muon candidate reconstructed energy [GeV]\")\n",
    "binning = Binning.from_config(*binning_def)\n",
    "selection = \"ZPBDT\"\n",
    "preselection = \"ZP\""
   ]
  },
  {
   "cell_type": "code",
   "execution_count": 4,
   "metadata": {
    "scrolled": true
   },
   "outputs": [
    {
     "name": "stdout",
     "output_type": "stream",
     "text": [
      "Loading run 1\n",
      "Loading run 2\n",
      "Loading run 3\n",
      "Loading run 4b\n",
      "Loading run 4c\n",
      "Loading run 4d\n",
      "Loading run 5\n",
      "WARNING: drt has no weightsFlux universes, replacing with ones\n",
      "WARNING: drt has no weightsReint universes, replacing with ones\n"
     ]
    }
   ],
   "source": [
    "rundata, mc_weights, data_pot = dl.load_runs(\n",
    "    RUN,\n",
    "    data=\"bnb\",\n",
    "    loadpi0variables=True,\n",
    "    loadshowervariables=True,\n",
    "    loadrecoveryvars=True,\n",
    "    loadsystematics=True,\n",
    "    load_lee=True,\n",
    "    blinded=True,\n",
    "    enable_cache=True,\n",
    "    numupresel=False,\n",
    "    loadnumuvariables=False,\n",
    "    use_bdt=True,\n",
    "    load_numu_tki=False\n",
    ")"
   ]
  },
  {
   "cell_type": "markdown",
   "metadata": {},
   "source": [
    "### Calculate the Detector Uncertainties on the Nue/NCpi0 Background ###"
   ]
  },
  {
   "cell_type": "code",
   "execution_count": null,
   "metadata": {
    "scrolled": true
   },
   "outputs": [
    {
     "name": "stdout",
     "output_type": "stream",
     "text": [
      "Loading detvar data for run 1 and variation cv\n",
      "Loading detvar data for run 2 and variation cv\n",
      "Loading detvar data for run 3 and variation cv\n",
      "Loading detvar data for run 4b and variation cv\n",
      "Loading detvar data for run 4c and variation cv\n",
      "Loading detvar data for run 4d and variation cv\n",
      "Loading detvar data for run 5 and variation cv\n",
      "Loading detvar data for run 1 and variation lydown\n",
      "LY Down uncertainties is not used in run 1, loading CV sample as a dummy\n",
      "Loading detvar data for run 2 and variation lydown\n",
      "Loading detvar data for run 3 and variation lydown\n",
      "Loading detvar data for run 4b and variation lydown\n",
      "Loading detvar data for run 4c and variation lydown\n",
      "Loading detvar data for run 4d and variation lydown\n",
      "Loading detvar data for run 5 and variation lydown\n",
      "Loading detvar data for run 1 and variation lyatt\n",
      "Using data_paths.yml to locate ntuple file\n",
      "Loading ntuple file /uboone/data/users/cthorpe/PELEE_2023_Samples/run1/detvar/nuepresel/high_stat_prodgenie_bnb_nu_overlay_DetVar_Run1_LYAttenuation_reco2_reco2.root\n"
     ]
    },
    {
     "name": "stderr",
     "output_type": "stream",
     "text": [
      "../../data_loading.py:778: RuntimeWarning: invalid value encountered in true_divide\n",
      "  df[\"proton_pz\"] = np.where((mc_E_prot > 0), mc_pz_prot / mc_p_prot, np.nan)\n",
      "../../data_loading.py:615: RuntimeWarning: invalid value encountered in sqrt\n",
      "  return np.sqrt(2 * e1 * e2 * (1 - px1 * px2 - py1 * py2 - pz1 * pz2))\n",
      "../../data_loading.py:615: RuntimeWarning: overflow encountered in float_scalars\n",
      "  return np.sqrt(2 * e1 * e2 * (1 - px1 * px2 - py1 * py2 - pz1 * pz2))\n",
      "/uboone/app/users/cthorpe/Mambaforge/envs/python3LEE/lib/python3.7/site-packages/pandas/core/series.py:679: RuntimeWarning: invalid value encountered in sqrt\n",
      "  result = getattr(ufunc, method)(*inputs, **kwargs)\n"
     ]
    },
    {
     "name": "stdout",
     "output_type": "stream",
     "text": [
      "Using data_paths.yml to locate ntuple file\n",
      "Loading ntuple file /uboone/data/users/cthorpe/PELEE_2023_Samples/run1/detvar/nuepresel/prodgenie_bnb_intrinsic_nue_overlay_DetVar_LYAttenuation_v08_00_00_38_run1_reco2_reco2.root\n",
      "Using data_paths.yml to locate ntuple file\n",
      "Loading ntuple file /uboone/data/users/cthorpe/PELEE_2023_Samples/run1/detvar/nuepresel/prodgenie_nc_pi0_overlay_DetVar_CV_reco2_v08_00_00_38_run3b_reco2_reco2.root\n",
      "Loading detvar data for run 2 and variation lyatt\n",
      "Loading detvar data for run 3 and variation lyatt\n",
      "Using data_paths.yml to locate ntuple file\n",
      "Loading ntuple file /uboone/data/users/cthorpe/PELEE_2023_Samples/run3/detvar/nuepresel/high_stat_prodgenie_bnb_nu_overlay_DetVar_Run3_LYAttenuation_reco2_reco2.root\n",
      "Using data_paths.yml to locate ntuple file\n",
      "Loading ntuple file /uboone/data/users/cthorpe/PELEE_2023_Samples/run3/detvar/nuepresel/prodgenie_bnb_intrinsic_nue_overlay_DetVar_LYAttenuation_v08_00_00_38_run3b_reco2_reco2.root\n"
     ]
    },
    {
     "name": "stderr",
     "output_type": "stream",
     "text": [
      "../../data_loading.py:1134: RuntimeWarning: invalid value encountered in sqrt\n",
      "  - reco_pz_hadsum * reco_pz_hadsum\n"
     ]
    },
    {
     "name": "stdout",
     "output_type": "stream",
     "text": [
      "Using data_paths.yml to locate ntuple file\n",
      "Loading ntuple file /uboone/data/users/cthorpe/PELEE_2023_Samples/run3/detvar/nuepresel/prodgenie_NCPi0_overlay_DetVar_LYAttenuation_v08_00_00_38_run3b_reco2_reco2_ntuples.root\n",
      "Loading detvar data for run 4b and variation lyatt\n",
      "Using data_paths.yml to locate ntuple file\n",
      "Loading ntuple file /uboone/data/users/cthorpe/PELEE_2023_Samples/run4_detvar/nuepresel/Run_4_BNB_Nu_Detvar_LYAttenuation_Pandora_Reco2_run4_ana.root\n",
      "Using data_paths.yml to locate ntuple file\n",
      "Loading ntuple file /uboone/data/users/cthorpe/PELEE_2023_Samples/run4_detvar/nuepresel/run4_bnb_intrinsic_nue_detvar_LYAttenuation_pandora_reco2_run4_ana.root\n",
      "Using data_paths.yml to locate ntuple file\n",
      "Loading ntuple file /uboone/data/users/cthorpe/PELEE_2023_Samples/run4_detvar/nuepresel/prodgenie_NCPi0_overlay_DetVar_LYAttenuation_v08_00_00_38_run3b_reco2_reco2_ntuples.root\n",
      "Loading detvar data for run 4c and variation lyatt\n",
      "Loading detvar data for run 4d and variation lyatt\n",
      "Loading detvar data for run 5 and variation lyatt\n",
      "Using data_paths.yml to locate ntuple file\n",
      "Loading ntuple file /uboone/data/users/cthorpe/PELEE_2023_Samples/run5_detvar/nuepresel/Run_5_BNB_Nu_Detvar_LYAttenuation_Pandora_Reco2_run5_ana.root\n",
      "Using data_paths.yml to locate ntuple file\n",
      "Loading ntuple file /uboone/data/users/cthorpe/PELEE_2023_Samples/run5_detvar/nuepresel/Run_5_BNB_Nue_Detvar_LYAttenuation_Pandora_Reco2_run5_ana.root\n",
      "Using data_paths.yml to locate ntuple file\n",
      "Loading ntuple file /uboone/data/users/cthorpe/PELEE_2023_Samples/run5_detvar/nuepresel/prodgenie_NCPi0_overlay_DetVar_LYAttenuation_v08_00_00_38_run3b_reco2_reco2_ntuples.root\n",
      "Loading detvar data for run 1 and variation lyrayleigh\n",
      "Using data_paths.yml to locate ntuple file\n",
      "Loading ntuple file /uboone/data/users/cthorpe/PELEE_2023_Samples/run1/detvar/nuepresel/high_stat_prodgenie_bnb_nu_overlay_DetVar_Run1_LYRayleigh_reco2_reco2.root\n",
      "Using data_paths.yml to locate ntuple file\n",
      "Loading ntuple file /uboone/data/users/cthorpe/PELEE_2023_Samples/run1/detvar/nuepresel/prodgenie_bnb_intrinsic_nue_overlay_DetVar_LYRayleigh_v08_00_00_37_run1_reco2_reco2.root\n",
      "Using data_paths.yml to locate ntuple file\n",
      "Loading ntuple file /uboone/data/users/cthorpe/PELEE_2023_Samples/run1/detvar/nuepresel/prodgenie_nc_pi0_overlay_DetVar_LYReyliegh_v08_00_00_37_run3b_reco2_reco2.root\n",
      "Loading detvar data for run 2 and variation lyrayleigh\n",
      "Loading detvar data for run 3 and variation lyrayleigh\n",
      "Using data_paths.yml to locate ntuple file\n",
      "Loading ntuple file /uboone/data/users/cthorpe/PELEE_2023_Samples/run3/detvar/nuepresel/high_stat_prodgenie_bnb_nu_overlay_DetVar_Run3_LYRayleigh_reco2_reco2.root\n",
      "Using data_paths.yml to locate ntuple file\n",
      "Loading ntuple file /uboone/data/users/cthorpe/PELEE_2023_Samples/run3/detvar/nuepresel/prodgenie_bnb_intrinsic_nue_overlay_DetVar_LYRayleigh_v08_00_00_37_run3b_reco2_reco2.root\n",
      "Using data_paths.yml to locate ntuple file\n",
      "Loading ntuple file /uboone/data/users/cthorpe/PELEE_2023_Samples/run3/detvar/nuepresel/prodgenie_nc_pi0_overlay_DetVar_LYReyliegh_v08_00_00_37_run3b_reco2_reco2.root\n",
      "Loading detvar data for run 4b and variation lyrayleigh\n",
      "Using data_paths.yml to locate ntuple file\n",
      "Loading ntuple file /uboone/data/users/cthorpe/PELEE_2023_Samples/run4_detvar/nuepresel/run4_5_bnb_nu_overlay_detvar_LYRayleigh_reco2_pandora_unified_run4_ana.root\n",
      "Using data_paths.yml to locate ntuple file\n",
      "Loading ntuple file /uboone/data/users/cthorpe/PELEE_2023_Samples/run4_detvar/nuepresel/run4_bnb_intrinsic_nue_detvar_LYRayleigh_pandora_reco2_run4_ana.root\n",
      "Using data_paths.yml to locate ntuple file\n",
      "Loading ntuple file /uboone/data/users/cthorpe/PELEE_2023_Samples/run4_detvar/nuepresel/prodgenie_nc_pi0_overlay_DetVar_LYReyliegh_v08_00_00_37_run3b_reco2_reco2.root\n",
      "Loading detvar data for run 4c and variation lyrayleigh\n",
      "Loading detvar data for run 4d and variation lyrayleigh\n",
      "Loading detvar data for run 5 and variation lyrayleigh\n",
      "Using data_paths.yml to locate ntuple file\n",
      "Loading ntuple file /uboone/data/users/cthorpe/PELEE_2023_Samples/run5_detvar/nuepresel/run4_5_bnb_nu_overlay_detvar_LYRayleigh_reco2_pandora_unified_run5_ana.root\n",
      "Using data_paths.yml to locate ntuple file\n",
      "Loading ntuple file /uboone/data/users/cthorpe/PELEE_2023_Samples/run5_detvar/nuepresel/Run_5_BNB_Nue_Detvar_LYRayleigh_Pandora_Reco2_run5_ana.root\n"
     ]
    }
   ],
   "source": [
    "good_bg_detvars = detsys.make_variations(\n",
    "    RUN,\n",
    "    \"bnb\",\n",
    "    selection+\"_GoodBG\",\n",
    "    preselection,\n",
    "    binning,\n",
    "    make_plots=True,\n",
    "    truth_filtered_sets=[\"nue\",\"nc_pi0\"],\n",
    "    loadpi0variables=True,\n",
    "    loadshowervariables=True,\n",
    "    loadrecoveryvars=True,\n",
    "    loadsystematics=True,\n",
    "    load_lee=True,\n",
    "    blinded=True,\n",
    "    enable_cache=True,\n",
    "    numupresel=False,\n",
    "    loadnumuvariables=False,\n",
    "    use_bdt=True,\n",
    "    load_numu_tki=False\n",
    ")"
   ]
  },
  {
   "cell_type": "markdown",
   "metadata": {},
   "source": [
    "### Draw the Prediction with All Uncertainties Except Detsys on Misc Background ###"
   ]
  },
  {
   "cell_type": "code",
   "execution_count": null,
   "metadata": {},
   "outputs": [],
   "source": [
    "signal_generator_good_bg = hist.RunHistGenerator(\n",
    "    rundata,\n",
    "    binning,\n",
    "    data_pot=data_pot,\n",
    "    selection=selection,\n",
    "    preselection=preselection,\n",
    "    uncertainty_defaults={\"include_multisim_errors\": True,\"include_unisim_errors\": True},\n",
    "    detvar_data=good_bg_detvars\n",
    ")"
   ]
  },
  {
   "cell_type": "code",
   "execution_count": null,
   "metadata": {},
   "outputs": [],
   "source": [
    "ax = RunHistPlotter(signal_generator_good_bg).plot(\n",
    "    category_column=\"paper_category\", include_multisim_errors=True, show_data_mc_ratio=False, add_ext_error_floor=False,\n",
    "    channel=selection,add_precomputed_detsys=True,show_chi_square=False\n",
    ")"
   ]
  },
  {
   "cell_type": "code",
   "execution_count": null,
   "metadata": {},
   "outputs": [],
   "source": [
    "pred_hist_good = signal_generator_good_bg.get_total_prediction(include_multisim_errors=True,add_precomputed_detsys=True)\n",
    "pred_hist_good.draw_covariance_matrix(as_correlation=False)\n",
    "good_bg_cov_matrix = pred_hist_good.covariance_matrix"
   ]
  },
  {
   "cell_type": "markdown",
   "metadata": {},
   "source": [
    "### Calculate the Misc Background and Calculate the Covariance Matrix Needed to Apply Uncertainty ###"
   ]
  },
  {
   "cell_type": "code",
   "execution_count": null,
   "metadata": {},
   "outputs": [],
   "source": [
    "signal_generator_misc_bg = hist.RunHistGenerator(\n",
    "    rundata,\n",
    "    binning,\n",
    "    data_pot=data_pot,\n",
    "    selection=selection+\"_MiscBG\",\n",
    "    preselection=preselection,\n",
    "    uncertainty_defaults={\"include_multisim_errors\": False,\"include_unisim_errors\": False},\n",
    ")"
   ]
  },
  {
   "cell_type": "code",
   "execution_count": null,
   "metadata": {},
   "outputs": [],
   "source": [
    "ax = RunHistPlotter(signal_generator_misc_bg).plot(\n",
    "    category_column=\"paper_category\", include_multisim_errors=False, show_data_mc_ratio=False, add_ext_error_floor=False,\n",
    "    channel=selection,add_precomputed_detsys=False,show_chi_square=False\n",
    ")"
   ]
  },
  {
   "cell_type": "code",
   "execution_count": null,
   "metadata": {},
   "outputs": [],
   "source": [
    "import matplotlib.pyplot as plt\n",
    "\n",
    "extra_frac_unc = 0.5\n",
    "\n",
    "pred_hist_misc = signal_generator_misc_bg.get_total_prediction(include_multisim_errors=False,add_precomputed_detsys=False)\n",
    "nominal_values = pred_hist_misc.nominal_values\n",
    "\n",
    "#print(\"Misc Background Prediction:\")\n",
    "#print(pred_hist_misc)\n",
    "\n",
    "extra_cov = np.zeros(shape=(binning.n_bins,binning.n_bins))\n",
    "for i in range(0,binning.n_bins-1):\n",
    "    extra_cov[i][i] = extra_frac_unc**2*nominal_values[i]**2\n",
    "\n",
    "pred_hist_misc.covariance_matrix = extra_cov\n",
    "    \n",
    "pred_hist_misc.draw_covariance_matrix(as_correlation=False)\n",
    "    "
   ]
  },
  {
   "cell_type": "code",
   "execution_count": null,
   "metadata": {},
   "outputs": [],
   "source": [
    "signal_generator = hist.RunHistGenerator(\n",
    "    rundata,\n",
    "    binning,\n",
    "    data_pot=data_pot,\n",
    "    selection=selection,\n",
    "    preselection=preselection,\n",
    "    uncertainty_defaults={\"include_multisim_errors\": True,\"include_unisim_errors\": True},\n",
    "    detvar_data=good_bg_detvars,\n",
    "    extra_mc_covariance=extra_cov\n",
    ")"
   ]
  },
  {
   "cell_type": "code",
   "execution_count": null,
   "metadata": {
    "scrolled": false
   },
   "outputs": [],
   "source": [
    "ax = RunHistPlotter(signal_generator).plot(\n",
    "    category_column=\"paper_category\", include_multisim_errors=True, show_data_mc_ratio=False, add_ext_error_floor=False,\n",
    "    channel=selection,add_precomputed_detsys=False,show_chi_square=False\n",
    ")"
   ]
  }
 ],
 "metadata": {
  "kernelspec": {
   "display_name": "Python 3 (ipykernel)",
   "language": "python",
   "name": "python3"
  },
  "language_info": {
   "codemirror_mode": {
    "name": "ipython",
    "version": 3
   },
   "file_extension": ".py",
   "mimetype": "text/x-python",
   "name": "python",
   "nbconvert_exporter": "python",
   "pygments_lexer": "ipython3",
   "version": "3.7.12"
  }
 },
 "nbformat": 4,
 "nbformat_minor": 2
}
