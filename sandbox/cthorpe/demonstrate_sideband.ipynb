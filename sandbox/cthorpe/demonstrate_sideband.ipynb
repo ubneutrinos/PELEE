{
 "cells": [
  {
   "cell_type": "code",
   "execution_count": 1,
   "metadata": {},
   "outputs": [],
   "source": [
    "%load_ext autoreload\n",
    "%autoreload 2"
   ]
  },
  {
   "cell_type": "code",
   "execution_count": 2,
   "metadata": {},
   "outputs": [],
   "source": [
    "import sys\n",
    "sys.path.append(\"../../\")\n",
    "import data_loading as dl\n",
    "\n",
    "from microfit import run_plotter as rp\n",
    "from microfit import histogram as hist\n",
    "\n",
    "import make_detsys as detsys"
   ]
  },
  {
   "cell_type": "code",
   "execution_count": 3,
   "metadata": {},
   "outputs": [],
   "source": [
    "from importlib import reload\n",
    "import logging\n",
    "reload(logging)\n",
    "\n",
    "logging.basicConfig(level=logging.DEBUG)"
   ]
  },
  {
   "cell_type": "code",
   "execution_count": 4,
   "metadata": {},
   "outputs": [],
   "source": [
    "RUN = [\"1\",\"2\",\"3\"]"
   ]
  },
  {
   "cell_type": "code",
   "execution_count": null,
   "metadata": {
    "scrolled": true
   },
   "outputs": [
    {
     "name": "stdout",
     "output_type": "stream",
     "text": [
      "Loading run 1\n"
     ]
    },
    {
     "name": "stderr",
     "output_type": "stream",
     "text": [
      "INFO:numexpr.utils:NumExpr defaulting to 8 threads.\n"
     ]
    },
    {
     "name": "stdout",
     "output_type": "stream",
     "text": [
      "Prior to truth filtering:\n",
      "31454\n",
      "After truth filtering:\n",
      "30412\n",
      "Loading run 2\n",
      "Prior to truth filtering:\n",
      "25108\n",
      "After truth filtering:\n",
      "24196\n",
      "Loading run 3\n"
     ]
    }
   ],
   "source": [
    "rundata_pi0, mc_weights_pi0, data_pot_pi0 = dl.load_runs(\n",
    "    RUN,\n",
    "    data=\"bnb\",\n",
    "    truth_filtered_sets=[\"nue\", \"drt\"],\n",
    "    loadpi0variables=True,\n",
    "    loadshowervariables=True,\n",
    "    loadrecoveryvars=True,\n",
    "    loadsystematics=True,\n",
    "    load_lee=True,\n",
    "    blinded=False,\n",
    "    enable_cache=True,\n",
    "    numupresel=False,\n",
    "    loadnumuvariables=False,\n",
    "    use_bdt=True,\n",
    "    load_numu_tki=False\n",
    ")\n",
    "\n",
    "rundata, mc_weights, data_pot = dl.load_runs(\n",
    "    RUN,\n",
    "    data=\"bnb\",\n",
    "    truth_filtered_sets=[\"nue\",\"drt\"],\n",
    "    loadpi0variables=True,\n",
    "    loadshowervariables=True,\n",
    "    loadrecoveryvars=True,\n",
    "    loadsystematics=True,\n",
    "    load_lee=True,\n",
    "    blinded=False,\n",
    "    enable_cache=True,\n",
    "    numupresel=False,\n",
    "    loadnumuvariables=False,\n",
    "    use_bdt=True,\n",
    "    load_numu_tki=False\n",
    ")"
   ]
  },
  {
   "cell_type": "code",
   "execution_count": null,
   "metadata": {
    "scrolled": true
   },
   "outputs": [],
   "source": [
    "selection = \"PI0\"\n",
    "preselection = \"PI0\"\n",
    "binning_def = (\"reco_e\", 10, (0.15, 1.55), \"neutrino reconstructed energy [GeV]\")\n",
    "binning = hist.Binning.from_config(*binning_def)\n",
    "binning.label = \"PI0\"\n",
    "\n",
    "pi0_detvars = detsys.make_variations(\n",
    "    RUN,\n",
    "    \"bnb\",\n",
    "    selection,\n",
    "    preselection,\n",
    "    binning,\n",
    "    truth_filtered_sets=[\"nue\",\"cc_pi0\",\"nc_pi0\"],\n",
    "    make_plots=True,\n",
    "    loadpi0variables=True,\n",
    "    loadshowervariables=True,\n",
    "    loadrecoveryvars=True,\n",
    "    loadsystematics=False,\n",
    "    enable_cache=True,\n",
    "    numupresel=False,\n",
    "    loadnumuvariables=False,\n",
    "    use_bdt=True,\n",
    "    load_numu_tki=False   \n",
    ")\n",
    "\n",
    "binning = hist.Binning.from_config(*binning_def)\n",
    "binning.label = \"PI0\"\n",
    "pi0_generator = hist.RunHistGenerator(\n",
    "    rundata_pi0,\n",
    "    binning,\n",
    "    data_pot=data_pot_pi0,\n",
    "    selection=selection,\n",
    "    preselection=preselection,\n",
    "    sideband_generator=None,\n",
    "    uncertainty_defaults=None,\n",
    "    detvar_data_path=pi0_detvars,\n",
    ")\n",
    "\n",
    "plotter_pi0 = rp.RunHistPlotter(pi0_generator, selection_title=\"pi0 selection\")\n",
    "plotter_pi0.title = plotter_pi0.get_selection_title(selection=selection, preselection=preselection)\n",
    "\n",
    "plotter_pi0 = rp.RunHistPlotter(pi0_generator)\n",
    "axes = plotter_pi0.plot(\n",
    "    category_column=\"paper_category\",\n",
    "    include_multisim_errors=True,\n",
    "    add_ext_error_floor=False,\n",
    "    show_data_mc_ratio=True,\n",
    "    show_chi_square=True,\n",
    "    smooth_ext_histogram=False,\n",
    "    add_precomputed_detsys=True\n",
    ")"
   ]
  },
  {
   "cell_type": "code",
   "execution_count": null,
   "metadata": {
    "scrolled": true
   },
   "outputs": [],
   "source": [
    "RUN = [\"1\",\"2\",\"3\"]\n",
    "binning_def = (\"reco_e\", 10, (0.15, 1.55), r\"Reconstructed Energy [GeV]\")  # reproduce technote\n",
    "\n",
    "zp_binning = Binning.from_config(*binning_def)\n",
    "#zp_binning.set_selection(preselection=\"ZP\", selection=\"ZPBDT\")\n",
    "zp_binning.label = \"ZPBDT\"\n",
    "selection = \"ZPBDT\"\n",
    "preselection = \"ZP\"\n",
    "\n",
    "zp_detvars = detsys.make_variations(\n",
    "    RUN,\n",
    "    \"bnb\",\n",
    "    selection,\n",
    "    preselection,\n",
    "    zp_binning,\n",
    "    truth_filtered_sets=[\"nue\",\"cc_pi0\",\"nc_pi0\"],\n",
    "    make_plots=True,\n",
    "    loadpi0variables=True,\n",
    "    loadshowervariables=True,\n",
    "    loadrecoveryvars=True,\n",
    "    loadsystematics=False,\n",
    "    enable_cache=True,\n",
    "    numupresel=False,\n",
    "    loadnumuvariables=False,\n",
    "    use_bdt=True,\n",
    "    load_numu_tki=False\n",
    ")\n",
    "\n",
    "signal_generator = hist.RunHistGenerator(\n",
    "    rundata,\n",
    "    zp_binning,\n",
    "    data_pot=data_pot,\n",
    "    selection=selection,\n",
    "    preselection=preselection,\n",
    "    uncertainty_defaults=None,\n",
    "    detvar_data_path=zp_detvars\n",
    ")\n",
    "\n",
    "plotter = rp.RunHistPlotter(signal_generator)\n",
    "axes = plotter.plot(\n",
    "    category_column=\"paper_category\",\n",
    "    include_multisim_errors=True,\n",
    "    add_ext_error_floor=False,\n",
    "    show_data_mc_ratio=True,\n",
    "    show_chi_square=True,\n",
    "    smooth_ext_histogram=False,\n",
    "    add_precomputed_detsys=True\n",
    ")"
   ]
  },
  {
   "cell_type": "code",
   "execution_count": null,
   "metadata": {
    "scrolled": true
   },
   "outputs": [],
   "source": [
    "# Create the multi channel binning\n",
    "\n",
    "from microfit.analysis import MultibandAnalysis\n",
    "from microfit.histogram import Binning, RunHistGenerator, MultiChannelBinning\n",
    "from microfit.run_plotter import RunHistPlotter\n",
    "\n",
    "analysis = MultibandAnalysis(\n",
    "    run_hist_generators=[pi0_generator,signal_generator],\n",
    "    constraint_channels=[\"PI0\"],\n",
    "    signal_channels=[\"NPL_MEDIUM_PID\"],\n",
    "    \n",
    ")\n",
    "\n",
    "plotter = RunHistPlotter(analysis).plot(\n",
    "    include_multisim_errors=True,\n",
    "    add_ext_error_floor=False,\n",
    "    stacked=True,\n",
    "    show_total=True,\n",
    "    use_sideband=True,\n",
    "    show_data_mc_ratio=True,\n",
    "    show_chi_square=True,\n",
    "    add_precomputed_detsys=True\n",
    "    # data_pot=analysis._get_pot_for_channel(\"NPBDT\"),\n",
    "    # channel=\"NPBDT\",\n",
    ")"
   ]
  },
  {
   "cell_type": "code",
   "execution_count": null,
   "metadata": {
    "scrolled": false
   },
   "outputs": [],
   "source": [
    "sideband_generator_pi0 = pi0_generator.get_hist_generator(which=\"mc\")\n",
    "sideband_total_prediction_pi0 = pi0_generator.get_total_prediction(include_multisim_errors=True)\n",
    "sideband_observed_hist_pi0 = pi0_generator.get_data_hist()"
   ]
  },
  {
   "cell_type": "code",
   "execution_count": null,
   "metadata": {},
   "outputs": [],
   "source": [
    "from importlib import reload\n",
    "import logging\n",
    "reload(logging)\n",
    "logging.basicConfig(level=logging.WARN)"
   ]
  },
  {
   "cell_type": "code",
   "execution_count": null,
   "metadata": {},
   "outputs": [],
   "source": [
    "# we can also extract the histogram generators and from those get the multiband covariance matrices\n",
    "pi0_hist_gen = pi0_generator.get_hist_generator(which=\"mc\")\n",
    "signal_hist_gen = signal_generator.get_hist_generator(which=\"mc\")"
   ]
  },
  {
   "cell_type": "code",
   "execution_count": null,
   "metadata": {
    "scrolled": true
   },
   "outputs": [],
   "source": [
    "ms_column = \"\"\n",
    "hist_gens = [signal_hist_gen,sideband_hist_gen,pi0_hist_gen]\n",
    "#hist_gens = [np_hist_gen, zp_hist_gen]\n",
    "\n",
    "multiband_covariance = hist.HistogramGenerator.multiband_covariance(\n",
    "    hist_gens,\n",
    "    ms_column=ms_column\n",
    ")"
   ]
  },
  {
   "cell_type": "code",
   "execution_count": null,
   "metadata": {},
   "outputs": [],
   "source": [
    "import numpy as np\n",
    "# convert the covariance into a correlation matrix\n",
    "with np.errstate(divide='ignore', invalid='ignore'):\n",
    "    multiband_correlation = multiband_covariance / np.sqrt(np.outer(np.diag(multiband_covariance), np.diag(multiband_covariance)))\n",
    "# replace NANs with 0s\n",
    "multiband_correlation = np.nan_to_num(multiband_correlation)"
   ]
  },
  {
   "cell_type": "code",
   "execution_count": null,
   "metadata": {},
   "outputs": [],
   "source": [
    "multiband_correlation"
   ]
  },
  {
   "cell_type": "code",
   "execution_count": null,
   "metadata": {
    "scrolled": false
   },
   "outputs": [],
   "source": [
    "import matplotlib.pyplot as plt\n",
    "\n",
    "fig, ax = plt.subplots(figsize=(8, 6), constrained_layout=True)\n",
    "# show the covariance matrix as a heatmap\n",
    "X, Y = np.meshgrid(np.arange(multiband_correlation.shape[0] + 1), np.arange(multiband_correlation.shape[1] + 1))\n",
    "p = ax.pcolormesh(X, Y, multiband_correlation.T, cmap=\"Spectral_r\", shading=\"flat\")\n",
    "# colorbar\n",
    "cbar = fig.colorbar(p, ax=ax)\n",
    "cbar.set_label(\"correlation\")\n",
    "ax.set_title(f\"Multiband Correlation: {ms_column}\")\n",
    "# turn off tick labels\n",
    "ax.set_yticklabels([])\n",
    "ax.set_xticklabels([])\n",
    "# set tick marks at every bin\n",
    "ax.set_xticks(np.arange(multiband_correlation.shape[0]) + 0.5, minor=False)\n",
    "ax.set_yticks(np.arange(multiband_correlation.shape[1]) + 0.5, minor=False)\n",
    "ax.tick_params(axis='both', which='both', direction=\"in\")\n",
    "\n",
    "\n",
    "# draw vertical and horizontal lines splitting the different histograms that went\n",
    "# into the covariance matrix\n",
    "pos = 0\n",
    "hist_gen_labels = [\"Signal\", \"NUMU\",\"PI0\"]\n",
    "for hist_gen, label in zip(hist_gens, hist_gen_labels):\n",
    "    pos += hist_gen.binning.n_bins\n",
    "    ax.axvline(pos, color=\"k\", linestyle=\"--\")\n",
    "    ax.axhline(pos, color=\"k\", linestyle=\"--\")\n",
    "    ax.text(pos - hist_gen.binning.n_bins / 2, -1, label, ha=\"center\", va=\"top\", fontsize=12)\n",
    "    ax.text(-1, pos - hist_gen.binning.n_bins / 2, label, ha=\"right\", va=\"center\", fontsize=12)\n",
    "\n",
    "plt.savefig(f\"plots/multiband_correlation_{ms_column}_numu_crt.pdf\")"
   ]
  }
 ],
 "metadata": {
  "kernelspec": {
   "display_name": "Python 3 (ipykernel)",
   "language": "python",
   "name": "python3"
  },
  "language_info": {
   "codemirror_mode": {
    "name": "ipython",
    "version": 3
   },
   "file_extension": ".py",
   "mimetype": "text/x-python",
   "name": "python",
   "nbconvert_exporter": "python",
   "pygments_lexer": "ipython3",
   "version": "3.7.12"
  }
 },
 "nbformat": 4,
 "nbformat_minor": 2
}
