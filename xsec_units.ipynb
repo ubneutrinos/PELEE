{
 "cells": [
  {
   "cell_type": "code",
   "execution_count": 1,
   "id": "7074d80c",
   "metadata": {},
   "outputs": [
    {
     "name": "stdout",
     "output_type": "stream",
     "text": [
      "/Users/meghna-local/PELEE_eff/\n"
     ]
    }
   ],
   "source": [
    "import sys\n",
    "import localSettings as ls\n",
    "import os\n",
    "print(ls.main_path)"
   ]
  },
  {
   "cell_type": "code",
   "execution_count": 2,
   "id": "21dcd9c5",
   "metadata": {},
   "outputs": [],
   "source": [
    "main_path = ls.main_path\n",
    "sys.path.append(main_path)"
   ]
  },
  {
   "cell_type": "code",
   "execution_count": 3,
   "id": "d54d7c8d",
   "metadata": {},
   "outputs": [
    {
     "name": "stdout",
     "output_type": "stream",
     "text": [
      "date and time: 03022022\n"
     ]
    }
   ],
   "source": [
    "from datetime import datetime\n",
    "now = datetime.now()\n",
    "date_time = now.strftime(\"%m%d%Y\")\n",
    "print(\"date and time:\",date_time)"
   ]
  },
  {
   "cell_type": "code",
   "execution_count": 4,
   "id": "ea38e68a",
   "metadata": {},
   "outputs": [],
   "source": [
    "import plotter\n",
    "import importlib\n",
    "importlib.reload(plotter)\n",
    "import uproot\n",
    "import matplotlib.pylab as pylab\n",
    "import numpy as np\n",
    "import math\n",
    "from sklearn.model_selection import train_test_split\n",
    "import pickle\n",
    "#if USEBDT:\n",
    "import xgboost as xgb\n",
    "import nue_booster \n",
    "importlib.reload(nue_booster)\n",
    "import awkward\n",
    "import pandas as pd\n",
    "from matplotlib import pyplot as plt\n",
    "\n",
    "params = {\n",
    "    'axes.labelsize': 'x-large',\n",
    "    'axes.titlesize': 'x-large',\n",
    "    'xtick.labelsize': 'x-large',\n",
    "    'ytick.labelsize': 'x-large'\n",
    "}\n",
    "pylab.rcParams.update(params)"
   ]
  },
  {
   "cell_type": "code",
   "execution_count": 5,
   "id": "29e02c3a",
   "metadata": {},
   "outputs": [
    {
     "name": "stdout",
     "output_type": "stream",
     "text": [
      "[1043.571  1982.9882 2552.515  2558.8645 1461.4658 1137.9657 1500.0968\n",
      " 1596.1425]\n",
      "[392.9398  320.7208  377.00986 420.0312  275.34308 279.66852 214.47801\n",
      " 348.47162]\n",
      "[1043.571  1982.9882 2552.515  2558.8645 1461.4658 1137.9657 1500.0968\n",
      " 1596.1425]\n"
     ]
    },
    {
     "name": "stderr",
     "output_type": "stream",
     "text": [
      "/Users/meghna-local/miniconda3/envs/python3LEE_fresh/lib/python3.7/site-packages/ipykernel_launcher.py:15: UserWarning: linestyle is redundantly defined by the 'linestyle' keyword argument and the fmt string \"o-\" (-> linestyle='-'). The keyword argument will take precedence.\n",
      "  from ipykernel import kernelapp as app\n",
      "/Users/meghna-local/miniconda3/envs/python3LEE_fresh/lib/python3.7/site-packages/ipykernel_launcher.py:25: UserWarning: Matplotlib is currently using module://matplotlib_inline.backend_inline, which is a non-GUI backend, so cannot show the figure.\n"
     ]
    },
    {
     "data": {
      "image/png": "[encoded data removed]",
      "text/plain": [
       "<Figure size 720x720 with 1 Axes>"
      ]
     },
     "metadata": {
      "needs_background": "light"
     },
     "output_type": "display_data"
    }
   ],
   "source": [
    "rf = uproot.open(\"MomClosure_FDS_reg_on_Identity.root\")\n",
    "th1= rf[\"unf_signal\"]\n",
    "err1 = rf['absError']\n",
    "th2 = rf['smeared_true_sig']\n",
    "unf_COV = rf['unf_cov']\n",
    "unf_COV_vals = unf_COV.values\n",
    "true_vals = th2.values\n",
    "bin_edges = th1.edges\n",
    "bin_vals = th1.values\n",
    "err1_vals = err1.values\n",
    "bincenters = 0.5*(bin_edges[1:]+bin_edges[:-1])\n",
    "fig = plt.figure(figsize=(10,10))\n",
    "ax = fig.add_subplot(111)\n",
    "#ax.hist(bincenters,bins=bin_edges, weights= bin_vals, histtype='step',label='Unfolded Signal',color='black',linestyle='dashed', lw = 2)\n",
    "ax.errorbar(bincenters,bin_vals,yerr=err1_vals,xerr=(bin_edges[:-1]-bin_edges[1:])/2,fmt = 'o-',label= 'Unfolded Signal',linestyle='', color='black', lw = 2 )\n",
    "ax.hist(bincenters,bins=bin_edges,weights=true_vals, histtype='step',label='Smeared True Signal',color='red', lw = 2)\n",
    "ax.set_xlabel('pi0 Momentum', fontsize=20)\n",
    "ax.set_ylabel('Events', fontsize=20)\n",
    "ax.set_xticks(bin_edges)\n",
    "ax.set_xlim(bin_edges[0],bin_edges[-1])\n",
    "#ax.hist(bins[:-1], bins, weights=n,color='lightgray',label='signal no sel.')\n",
    "ax.legend(ncol=2, prop={'size': 15})\n",
    "#ax.grid(True)\n",
    "plt.tight_layout()\n",
    "fig.show()\n",
    "print(bin_vals)\n",
    "print(err1_vals)\n",
    "'''handles, labels = ax.get_legend_handles_labels()\n",
    "new_handles = [Line2D([], [], c=h.get_edgecolor()) for h in handles]\n",
    "plt.legend(handles=new_handles, labels=labels,loc=2,ncol=3,frameon=False, prop={'size': 15})\n",
    "'''\n",
    "print(bin_vals)"
   ]
  },
  {
   "cell_type": "code",
   "execution_count": 6,
   "id": "e5220623",
   "metadata": {},
   "outputs": [
    {
     "name": "stdout",
     "output_type": "stream",
     "text": [
      "1.0978072619636846e+30\n",
      "501000000000.0\n"
     ]
    }
   ],
   "source": [
    "#FV for PeLEE\n",
    "x = [3.45,249.8]\n",
    "y = [-109.53, 111.47]\n",
    "z = [20.1, 986.9]\n",
    "ro_Ar = 1.3836\n",
    "N_A = 6.02214e23\n",
    "m_Ar = 39.95\n",
    "for i in range(1):\n",
    "    xx = x[i+1]- x[i]\n",
    "    yy = y[i+1]- y[i]\n",
    "    zz = z[i+1]- z[i]\n",
    "    V = xx*yy*zz\n",
    "\n",
    "N_targets = (ro_Ar * V * N_A)/m_Ar\n",
    "flux_cm2 = 5.01e11 # cm^-2\n",
    "print(N_targets)\n",
    "print(flux_cm2)"
   ]
  },
  {
   "cell_type": "code",
   "execution_count": 7,
   "id": "56131bd7",
   "metadata": {},
   "outputs": [
    {
     "data": {
      "text/plain": [
       "array([0.1  , 0.05 , 0.05 , 0.1  , 0.1  , 0.1  , 0.1  , 0.199])"
      ]
     },
     "execution_count": 7,
     "metadata": {},
     "output_type": "execute_result"
    }
   ],
   "source": [
    "b_width = (bin_edges[1:]- bin_edges[:-1])\n",
    "b_width"
   ]
  },
  {
   "cell_type": "code",
   "execution_count": 8,
   "id": "1e36c833",
   "metadata": {},
   "outputs": [
    {
     "data": {
      "text/plain": [
       "array([1.89739694e-38, 7.21084718e-38, 9.28184806e-38, 4.65246875e-38,\n",
       "       2.65720363e-38, 2.06902313e-38, 2.72744160e-38, 1.45832643e-38])"
      ]
     },
     "execution_count": 8,
     "metadata": {},
     "output_type": "execute_result"
    }
   ],
   "source": [
    "xsec_unf_sig = bin_vals/b_width\n",
    "xsec_unf_sig/= (N_targets*flux_cm2)\n",
    "xsec_unf_sig"
   ]
  },
  {
   "cell_type": "code",
   "execution_count": 9,
   "id": "e8b60888",
   "metadata": {},
   "outputs": [
    {
     "data": {
      "text/plain": [
       "array([1.69521674e-38, 6.99048909e-38, 9.56079975e-38, 5.13933004e-38,\n",
       "       3.08276804e-38, 1.61803887e-38, 2.38923292e-38, 1.37261255e-38])"
      ]
     },
     "execution_count": 9,
     "metadata": {},
     "output_type": "execute_result"
    }
   ],
   "source": [
    "xsec_true_vals = true_vals/b_width\n",
    "xsec_true_vals/= (N_targets*flux_cm2)\n",
    "xsec_true_vals"
   ]
  },
  {
   "cell_type": "code",
   "execution_count": 10,
   "id": "1719609e",
   "metadata": {},
   "outputs": [
    {
     "data": {
      "text/plain": [
       "array([[154401.67   , -24872.154  , -55710.72   ,  62301.633  ,\n",
       "         58724.246  ,  -5382.952  ,  -4298.6943 ,  26199.748  ],\n",
       "       [-24872.154  , 102861.82   ,  97483.94   , -11976.425  ,\n",
       "         12902.396  ,  49005.977  ,  21773.846  , -19463.975  ],\n",
       "       [-55710.72   ,  97483.94   , 142136.42   ,  44415.72   ,\n",
       "         -4640.526  ,  31516.549  ,  45203.22   ,   2156.9316 ],\n",
       "       [ 62301.633  , -11976.425  ,  44415.72   , 176426.2    ,\n",
       "         45619.54   , -43304.28   ,  23600.695  , 102136.9    ],\n",
       "       [ 58724.246  ,  12902.396  ,  -4640.526  ,  45619.54   ,\n",
       "         75813.805  ,    241.41034,  -1712.3007 ,  43644.95   ],\n",
       "       [ -5382.952  ,  49005.977  ,  31516.549  , -43304.28   ,\n",
       "           241.41034,  78214.484  ,  27043.977  , -54950.37   ],\n",
       "       [ -4298.6943 ,  21773.846  ,  45203.22   ,  23600.695  ,\n",
       "         -1712.3007 ,  27043.977  ,  46000.82   ,   1306.2814 ],\n",
       "       [ 26199.748  , -19463.975  ,   2156.9316 , 102136.9    ,\n",
       "         43644.95   , -54950.37   ,   1306.2814 , 121432.46   ]],\n",
       "      dtype=float32)"
      ]
     },
     "execution_count": 10,
     "metadata": {},
     "output_type": "execute_result"
    }
   ],
   "source": [
    "unf_COV = rf['unf_cov']\n",
    "unf_COV_vals = unf_COV.values\n",
    "unf_COV_vals"
   ]
  },
  {
   "cell_type": "code",
   "execution_count": 11,
   "id": "e9bdefaf",
   "metadata": {},
   "outputs": [
    {
     "name": "stderr",
     "output_type": "stream",
     "text": [
      "/Users/meghna-local/miniconda3/envs/python3LEE_fresh/lib/python3.7/site-packages/ipykernel_launcher.py:2: RuntimeWarning: invalid value encountered in sqrt\n",
      "  \n",
      "/Users/meghna-local/miniconda3/envs/python3LEE_fresh/lib/python3.7/site-packages/ipykernel_launcher.py:4: RuntimeWarning: invalid value encountered in sqrt\n",
      "  after removing the cwd from sys.path.\n"
     ]
    },
    {
     "data": {
      "text/plain": [
       "array([7.14434098e-39, 1.16625434e-38, 1.37094130e-38, 7.63691081e-39,\n",
       "       5.00622450e-39, 5.08486899e-39, 3.89959013e-39, 3.18383459e-39])"
      ]
     },
     "execution_count": 11,
     "metadata": {},
     "output_type": "execute_result"
    }
   ],
   "source": [
    "np.diag(unf_COV_vals)\n",
    "err_ = np.diag(np.sqrt(unf_COV_vals))\n",
    "unf_xsec = unf_COV_vals/(b_width*b_width* N_targets*flux_cm2*N_targets*flux_cm2)\n",
    "err_xsec = np.diag(np.sqrt(unf_xsec))\n",
    "err_xsec"
   ]
  },
  {
   "cell_type": "code",
   "execution_count": 12,
   "id": "c062f755",
   "metadata": {},
   "outputs": [
    {
     "name": "stderr",
     "output_type": "stream",
     "text": [
      "/Users/meghna-local/miniconda3/envs/python3LEE_fresh/lib/python3.7/site-packages/ipykernel_launcher.py:3: UserWarning: linestyle is redundantly defined by the 'linestyle' keyword argument and the fmt string \"o-\" (-> linestyle='-'). The keyword argument will take precedence.\n",
      "  This is separate from the ipykernel package so we can avoid doing imports until\n",
      "/Users/meghna-local/miniconda3/envs/python3LEE_fresh/lib/python3.7/site-packages/ipykernel_launcher.py:13: UserWarning: Matplotlib is currently using module://matplotlib_inline.backend_inline, which is a non-GUI backend, so cannot show the figure.\n",
      "  del sys.path[0]\n"
     ]
    },
    {
     "data": {
      "image/png": "[encoded data removed]",
      "text/plain": [
       "<Figure size 720x720 with 1 Axes>"
      ]
     },
     "metadata": {
      "needs_background": "light"
     },
     "output_type": "display_data"
    }
   ],
   "source": [
    "fig1 = plt.figure(figsize=(10,10))\n",
    "ax1 = fig1.add_subplot(111)\n",
    "ax1.errorbar(bincenters,xsec_unf_sig,yerr=err_xsec,xerr=(bin_edges[:-1]-bin_edges[1:])/2,fmt = 'o-',label= 'Unfolded Signal',linestyle='', color='black', lw = 2 )\n",
    "ax1.hist(bincenters,bins=bin_edges,weights=xsec_true_vals, histtype='step',label='Smeared True Signal',color='red', lw = 2)\n",
    "ax1.set_xlabel('pi0 Momentum', fontsize=20)\n",
    "ax1.set_ylabel('xsec', fontsize=20)\n",
    "ax1.set_xticks(bin_edges)\n",
    "ax1.set_xlim(bin_edges[0],bin_edges[-1])\n",
    "#ax.hist(bins[:-1], bins, weights=n,color='lightgray',label='signal no sel.')\n",
    "ax1.legend(ncol=2, prop={'size': 15})\n",
    "#ax.grid(True)\n",
    "plt.tight_layout()\n",
    "fig.show()"
   ]
  }
 ],
 "metadata": {
  "kernelspec": {
   "display_name": "Python 3 (ipykernel)",
   "language": "python",
   "name": "python3"
  },
  "language_info": {
   "codemirror_mode": {
    "name": "ipython",
    "version": 3
   },
   "file_extension": ".py",
   "mimetype": "text/x-python",
   "name": "python",
   "nbconvert_exporter": "python",
   "pygments_lexer": "ipython3",
   "version": "3.7.12"
  }
 },
 "nbformat": 4,
 "nbformat_minor": 5
}
